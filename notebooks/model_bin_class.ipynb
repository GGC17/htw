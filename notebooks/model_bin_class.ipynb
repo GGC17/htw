{
 "cells": [
  {
   "cell_type": "code",
   "execution_count": 1,
   "id": "indirect-amsterdam",
   "metadata": {
    "ExecuteTime": {
     "end_time": "2021-03-26T15:20:49.005281Z",
     "start_time": "2021-03-26T15:20:47.960031Z"
    }
   },
   "outputs": [],
   "source": [
    "import pandas as pd\n",
    "import numpy as np\n",
    "from collections import Counter\n",
    "import seaborn as sns\n",
    "import matplotlib.pyplot as plt\n",
    "from sklearn.preprocessing import StandardScaler, MinMaxScaler\n",
    "from imblearn.over_sampling import SMOTE\n",
    "from sklearn.model_selection import GridSearchCV\n",
    "from sklearn.linear_model import LogisticRegression\n",
    "from sklearn.ensemble import GradientBoostingClassifier, RandomForestClassifier\n",
    "from sklearn.svm import SVC, LinearSVC\n",
    "from sklearn.neighbors import KNeighborsClassifier\n",
    "from sklearn.ensemble import AdaBoostClassifier\n",
    "from sklearn.naive_bayes import GaussianNB\n",
    "from sklearn.metrics import confusion_matrix, roc_curve, auc, classification_report, precision_recall_curve\n",
    "\n",
    "import warnings\n",
    "warnings.filterwarnings('ignore')"
   ]
  },
  {
   "cell_type": "code",
   "execution_count": 2,
   "id": "neither-minister",
   "metadata": {
    "ExecuteTime": {
     "end_time": "2021-03-26T15:20:49.290328Z",
     "start_time": "2021-03-26T15:20:49.008178Z"
    }
   },
   "outputs": [],
   "source": [
    "#Load Dataframes of the different component\n",
    "rooth_path = '../data/'\n",
    "generator_train = pd.read_csv(rooth_path + 'generator_train.csv')\n",
    "gen_bear_train = pd.read_csv(rooth_path + 'gen_bear_train.csv')\n",
    "transformer_train = pd.read_csv(rooth_path + 'transformer_train.csv')\n",
    "hydraulic_train = pd.read_csv(rooth_path + 'hydraulic_train.csv')\n",
    "gearbox_train = pd.read_csv(rooth_path + 'gearbox_train.csv')\n",
    "generator_test = pd.read_csv(rooth_path + 'generator_test.csv')\n",
    "gen_bear_test = pd.read_csv(rooth_path + 'gen_bear_test.csv')\n",
    "transformer_test = pd.read_csv(rooth_path + 'transformer_test.csv')\n",
    "hydraulic_test = pd.read_csv(rooth_path + 'hydraulic_test.csv')\n",
    "gearbox_test = pd.read_csv(rooth_path + 'gearbox_test.csv')\n",
    "df_costs = pd.read_csv(rooth_path + 'training/HTW_Costs.csv')"
   ]
  },
  {
   "cell_type": "markdown",
   "id": "compound-dollar",
   "metadata": {
    "ExecuteTime": {
     "end_time": "2021-03-14T19:40:41.747585Z",
     "start_time": "2021-03-14T19:40:41.722549Z"
    }
   },
   "source": [
    "### We are ready to build our base-model for each component. \n",
    "\n",
    "- We will need to scale the features, within each turbine\n",
    "- Since we have a very unbalanced dataset we will use SMOTE for balancing the training data set\n",
    "- Reach a base line model\n",
    "- Try other algorithms and fine tune\n",
    "- Probably we will need to change the threshold to reduce the FP\n",
    "- Calculate the different costs of our best models"
   ]
  },
  {
   "cell_type": "code",
   "execution_count": 3,
   "id": "swiss-rendering",
   "metadata": {
    "ExecuteTime": {
     "end_time": "2021-03-26T15:20:49.306852Z",
     "start_time": "2021-03-26T15:20:49.293697Z"
    }
   },
   "outputs": [],
   "source": [
    "# Scale within each turbine\n",
    "def scale (df_train, df_test, scaler='StandardScaler'):\n",
    "    \n",
    "    '''Scale within each given turbine\n",
    "    \n",
    "    Args:\n",
    "            df_train      : Train datarame\n",
    "            df_test       : Test dataframe\n",
    "        \n",
    "    Returns:\n",
    "            array         : Scaled array of train and test'''\n",
    "    \n",
    "    \n",
    "    # Scale for turbine T01 first\n",
    "    X_train1 = df_train.loc[df_train['Turbine_ID']=='T01']\n",
    "    X_test1 = df_test.loc[df_test['Turbine_ID']=='T01']\n",
    "\n",
    "    X_train1 = X_train1.drop(columns=['Turbine_ID', 'Date', 'TTF', 'Failure'])\n",
    "    X_test1 = X_test1.drop(columns=['Turbine_ID', 'Date', 'TTF', 'Failure'])\n",
    "    \n",
    "    if scaler == 'MinMaxScaler':\n",
    "        sc = MinMaxScaler()\n",
    "        X_train1 = sc.fit_transform(X_train1)\n",
    "        X_test1 = sc.transform(X_test1) \n",
    "    else:\n",
    "        sc = StandardScaler()\n",
    "        X_train1 = sc.fit_transform(X_train1)\n",
    "        X_test1 = sc.transform(X_test1) \n",
    "    \n",
    "    # Scale on other turbines\n",
    "    turbines = ['T06', 'T07', 'T09', 'T11']\n",
    "    for turbine in turbines:\n",
    "        X_train_ = df_train.loc[df_train['Turbine_ID']==turbine]\n",
    "        X_test_ = df_test.loc[df_test['Turbine_ID']==turbine]\n",
    "\n",
    "        X_train_ = X_train_.drop(columns=['Turbine_ID', 'Date', 'TTF', 'Failure'])\n",
    "        X_test_ = X_test_.drop(columns=['Turbine_ID', 'Date', 'TTF', 'Failure'])\n",
    "\n",
    "        if scaler == 'MinMaxScaler':\n",
    "            sc = MinMaxScaler()\n",
    "            X_train_ = sc.fit_transform(X_train_)\n",
    "            X_test_ = sc.transform(X_test_)\n",
    "        else:\n",
    "            sc = StandardScaler()\n",
    "            X_train_ = sc.fit_transform(X_train_)\n",
    "            X_test_ = sc.transform(X_test_)\n",
    "        \n",
    "        # Concatenate\n",
    "        X_train1 = np.concatenate((X_train1, X_train_))\n",
    "        X_test1 = np.concatenate((X_test1, X_test_))\n",
    "        \n",
    "             \n",
    "    return X_train1, X_test1"
   ]
  },
  {
   "cell_type": "code",
   "execution_count": 4,
   "id": "tropical-prototype",
   "metadata": {
    "ExecuteTime": {
     "end_time": "2021-03-26T15:20:49.328772Z",
     "start_time": "2021-03-26T15:20:49.311385Z"
    }
   },
   "outputs": [],
   "source": [
    "# Data augmentation using SMOTE\n",
    "def data_aug(X_train, y_train):\n",
    "    \n",
    "    '''Function for data augmentation, using SMOTE\n",
    "    \n",
    "    \n",
    "    '''\n",
    "    all_classes = Counter(y_train)\n",
    "    majority_class = all_classes.most_common(1)\n",
    "    minority_class = all_classes.most_common()[1:]\n",
    "    ratio = minority_class[0][1]/majority_class[0][1]\n",
    "    \n",
    "    # If ratio of training set < 10% \n",
    "    if ratio < 0.1:\n",
    "        over = SMOTE(sampling_strategy=0.1, random_state=0) # 10% of positive examples\n",
    "        X_train, y_train = over.fit_sample(X_train, y_train)    \n",
    "    \n",
    "    return X_train, y_train"
   ]
  },
  {
   "cell_type": "code",
   "execution_count": 5,
   "id": "simplified-invitation",
   "metadata": {
    "ExecuteTime": {
     "end_time": "2021-03-26T15:20:49.342558Z",
     "start_time": "2021-03-26T15:20:49.333144Z"
    }
   },
   "outputs": [],
   "source": [
    "# Function to predict\n",
    "def bin_classify(model, clf, X_train, X_test, y_train, y_test, params=None, score=None, ):\n",
    "    \n",
    "    #Grid Search\n",
    "    grid_search = GridSearchCV(estimator=clf, param_grid=params, cv=5, scoring=score, n_jobs=-1)\n",
    "\n",
    "    grid_search.fit(X_train, y_train)\n",
    "    y_pred = grid_search.predict(X_test)\n",
    "    \n",
    "    if hasattr(grid_search, 'predict_proba'):   \n",
    "        y_score = grid_search.predict_proba(X_test)[:,1]\n",
    "    elif hasattr(grid_search, 'decision_function'):\n",
    "        y_score = grid_search.decision_function(X_test)\n",
    "    else:\n",
    "        y_score = y_pred\n",
    "    \n",
    "    #Predictions\n",
    "    predictions = {'y_pred' : y_pred, 'y_score' : y_score}\n",
    "    df_predictions = pd.DataFrame.from_dict(predictions)\n",
    "    \n",
    "    return grid_search.best_estimator_, df_predictions"
   ]
  },
  {
   "cell_type": "code",
   "execution_count": 6,
   "id": "unlike-skill",
   "metadata": {
    "ExecuteTime": {
     "end_time": "2021-03-26T15:20:49.354618Z",
     "start_time": "2021-03-26T15:20:49.344514Z"
    }
   },
   "outputs": [],
   "source": [
    "# Function for metrics\n",
    "def metrics(estimator, X_test, y_test, y_pred):\n",
    "    \n",
    "    # Classification Report\n",
    "    print(classification_report(y_test, y_pred))\n",
    "    \n",
    "    # Confusion Matrix\n",
    "    print(confusion_matrix(y_test, y_pred))\n",
    "        \n",
    "    #Roc Curve\n",
    "    fpr, tpr, threshold = roc_curve(y_test, y_pred)\n",
    "    roc_auc = auc(fpr, tpr)\n",
    "    \n",
    "    # Precision Recall curve\n",
    "    precision, recall, treshold = precision_recall_curve(y_test, y_pred)\n",
    "    \n",
    "    plt.figure(figsize=(15,5))\n",
    "    \n",
    "    # Plot Roc\n",
    "    plt.subplot(1,2,1)\n",
    "    plt.plot(fpr, tpr, label= f'{estimator} AUC = %0.2f'% roc_auc)\n",
    "    plt.xlabel(\"False Positive Rate\")\n",
    "    plt.ylabel(\"True Positive Rate\")\n",
    "    plt.grid()\n",
    "    plt.legend()\n",
    "    \n",
    "    # Plot Decision Recall\n",
    "    plt.subplot(1,2,2)\n",
    "    plt.plot(treshold, precision[:-1], c ='r', label ='Precision')\n",
    "    plt.plot(treshold, recall[:-1], c ='b', label ='Recall')\n",
    "    plt.xlabel(\"Treshold\")\n",
    "    plt.ylabel(\"%\")\n",
    "    plt.grid()\n",
    "    plt.legend()\n",
    "    \n",
    "    plt.show()"
   ]
  },
  {
   "cell_type": "code",
   "execution_count": 7,
   "id": "attempted-paintball",
   "metadata": {
    "ExecuteTime": {
     "end_time": "2021-03-26T15:20:49.368336Z",
     "start_time": "2021-03-26T15:20:49.357483Z"
    }
   },
   "outputs": [],
   "source": [
    "# Logistic Regression\n",
    "def logreg(X_train, X_test, y_train, y_test):\n",
    "    model = 'Logistic Regression'\n",
    "    clf_logreg = LogisticRegression(random_state=42, max_iter=3000, n_jobs=-1)\n",
    "    gs_params = {'C': [.01, 0.1, 1.0, 10], 'solver': ['liblinear', 'lbfgs']}\n",
    "    gs_score = 'roc_auc'\n",
    "\n",
    "    clf_logreg, pred_logreg = bin_classify(model, clf_logreg, X_train, X_test, y_train, y_test, params=gs_params, score=gs_score)\n",
    "    print('\\nBest Parameters:\\n',clf_logreg)\n",
    "    \n",
    "    metrics(clf_logreg, X_test, y_test, pred_logreg['y_pred'])\n",
    "    \n",
    "    return clf_logreg, pred_logreg"
   ]
  },
  {
   "cell_type": "code",
   "execution_count": 8,
   "id": "demographic-substance",
   "metadata": {
    "ExecuteTime": {
     "end_time": "2021-03-26T15:20:49.379195Z",
     "start_time": "2021-03-26T15:20:49.372582Z"
    }
   },
   "outputs": [],
   "source": [
    "# Random Forest Classifier\n",
    "def rfc(X_train, X_test, y_train, y_test):\n",
    "    model = 'Random Forest Classifier'\n",
    "    clf_rfc = RandomForestClassifier(random_state=42, n_jobs=-1)\n",
    "    gs_params = {'n_estimators': [10, 20, 50, 100], 'max_depth': [4, 5, 6, 7, 8, 10, 15, 20], 'criterion': ['gini', 'entropy']}\n",
    "    gs_score = 'roc_auc'\n",
    "\n",
    "    clf_rfc, pred_rfc = bin_classify(model, clf_rfc, X_train, X_test, y_train, y_test, params=gs_params, score=gs_score)\n",
    "    print('\\nBest Parameters:\\n',clf_rfc)\n",
    "    \n",
    "    metrics(clf_rfc, X_test, y_test, pred_rfc['y_pred'])\n",
    "    \n",
    "    return clf_rfc, pred_rfc"
   ]
  },
  {
   "cell_type": "code",
   "execution_count": 9,
   "id": "preceding-binding",
   "metadata": {
    "ExecuteTime": {
     "end_time": "2021-03-26T15:20:49.391310Z",
     "start_time": "2021-03-26T15:20:49.384660Z"
    }
   },
   "outputs": [],
   "source": [
    "# Gradient Boosting Classifier\n",
    "def gbc(X_train, X_test, y_train, y_test):\n",
    "    model = 'Gradient Boosting Classifier'\n",
    "    clf_gbc = GradientBoostingClassifier(random_state=42)\n",
    "    gs_params = {'n_estimators': [10, 20, 50, 100], 'learning_rate': [0.1, 0.5, 0.6, 0.8, 1]}\n",
    "    gs_score = 'roc_auc'\n",
    "\n",
    "    clf_gbc, pred_gbc= bin_classify(model, clf_gbc, X_train, X_test, y_train, y_test, params=gs_params, score=gs_score)\n",
    "    print('\\nBest Parameters:\\n',clf_gbc)\n",
    "\n",
    "    metrics(clf_gbc, X_test, y_test, pred_gbc['y_pred'])\n",
    "    \n",
    "    return clf_gbc, pred_gbc"
   ]
  },
  {
   "cell_type": "code",
   "execution_count": 10,
   "id": "broken-negative",
   "metadata": {
    "ExecuteTime": {
     "end_time": "2021-03-26T15:20:49.402908Z",
     "start_time": "2021-03-26T15:20:49.393188Z"
    }
   },
   "outputs": [],
   "source": [
    "# K-Neighbors\n",
    "def knn(X_train, X_test, y_train, y_test):\n",
    "    model = 'KNN'\n",
    "    clf_knn = KNeighborsClassifier(n_jobs=-1)\n",
    "    gs_params = {'n_neighbors': [5, 7, 10, 15]}\n",
    "    gs_score = 'roc_auc'\n",
    "\n",
    "    clf_knn, pred_knn= bin_classify(model, clf_knn, X_train, X_test, y_train, y_test, params=gs_params, score=gs_score)\n",
    "    print('\\nBest Parameters:\\n',clf_knn)\n",
    "\n",
    "    metrics(clf_knn, X_test, y_test, pred_knn['y_pred'])\n",
    "    \n",
    "    return clf_knn, pred_knn"
   ]
  },
  {
   "cell_type": "code",
   "execution_count": 11,
   "id": "geographic-multiple",
   "metadata": {
    "ExecuteTime": {
     "end_time": "2021-03-26T15:20:49.410280Z",
     "start_time": "2021-03-26T15:20:49.405726Z"
    }
   },
   "outputs": [],
   "source": [
    "# Ada Boost Classifier\n",
    "def abc(X_train, X_test, y_train, y_test):\n",
    "    model = 'AdaBoostClassifier'\n",
    "    clf_abc = AdaBoostClassifier(random_state=42)\n",
    "    gs_params = {'n_estimators': [10, 20, 50, 100], 'learning_rate': [0.001, 0.01, 0.1, 0.5, 1]}\n",
    "    gs_score = 'roc_auc'\n",
    "\n",
    "    clf_abc, pred_abc= bin_classify(model, clf_abc, X_train, X_test, y_train, y_test, params=gs_params, score=gs_score)\n",
    "    print('\\nBest Parameters:\\n',clf_abc)\n",
    "\n",
    "    metrics(clf_abc, X_test, y_test, pred_abc['y_pred'])\n",
    "    \n",
    "    return clf_abc, pred_abc"
   ]
  },
  {
   "cell_type": "code",
   "execution_count": 12,
   "id": "conscious-surprise",
   "metadata": {
    "ExecuteTime": {
     "end_time": "2021-03-26T15:20:49.422891Z",
     "start_time": "2021-03-26T15:20:49.412812Z"
    }
   },
   "outputs": [],
   "source": [
    "# SVC\n",
    "def svc(X_train, X_test, y_train, y_test):\n",
    "    model = 'SVC'\n",
    "    clf_svc = SVC(random_state=42)\n",
    "    gs_params = {'C': [0.01, 0.1, 1, 1.2], 'kernel': ['linear', 'poly', 'rbf', 'sigmoid'], 'degree': [2,3], 'gamma': ['auto', 'scale']}\n",
    "    gs_score = 'roc_auc'\n",
    "\n",
    "    clf_svc, pred_svc= bin_classify(model, clf_svc, X_train, X_test, y_train, y_test, params=gs_params, score=gs_score)\n",
    "    print('\\nBest Parameters:\\n',clf_svc)\n",
    "\n",
    "    metrics(clf_svc, X_test, y_test, pred_svc['y_pred'])\n",
    "    \n",
    "    return clf_svc, pred_svc"
   ]
  },
  {
   "cell_type": "code",
   "execution_count": 13,
   "id": "intimate-default",
   "metadata": {
    "ExecuteTime": {
     "end_time": "2021-03-26T15:20:49.431900Z",
     "start_time": "2021-03-26T15:20:49.425055Z"
    }
   },
   "outputs": [],
   "source": [
    "# Naive Bayes\n",
    "def gnb(X_train, X_test, y_train, y_test):\n",
    "    model = 'Gaussian NB'\n",
    "    clf_gnb = GaussianNB()\n",
    "    gs_params = {}\n",
    "    gs_score = 'roc_auc'\n",
    "\n",
    "    clf_gnb, pred_gnb= bin_classify(model, clf_gnb, X_train, X_test, y_train, y_test, params=gs_params, score=gs_score)\n",
    "    print('\\nBest Parameters:\\n',clf_gnb)\n",
    "\n",
    "    metrics(clf_gnb, X_test, y_test, pred_gnb['y_pred'])\n",
    "    \n",
    "    return clf_gnb, pred_gnb"
   ]
  },
  {
   "cell_type": "markdown",
   "id": "auburn-pursuit",
   "metadata": {},
   "source": [
    "# 1st Analysis - Base Models"
   ]
  },
  {
   "cell_type": "markdown",
   "id": "identical-slovak",
   "metadata": {},
   "source": [
    "## GENERATOR"
   ]
  },
  {
   "cell_type": "code",
   "execution_count": 14,
   "id": "bridal-cradle",
   "metadata": {
    "ExecuteTime": {
     "end_time": "2021-03-26T15:20:49.440548Z",
     "start_time": "2021-03-26T15:20:49.434920Z"
    }
   },
   "outputs": [],
   "source": [
    "# By exploration, drop columns:\n",
    "gen_col_drop = ['Gen_RPM_Min', 'Gen_RPM_Min_av', 'Gen_RPM_Min_sd', \n",
    "                'Gen_RPM_Avg', 'Gen_RPM_Avg_av', 'Gen_RPM_Avg_sd',\n",
    "                'Gen_Phase1_Temp_Avg', 'Gen_Phase1_Temp_Avg_av', 'Gen_Phase1_Temp_Avg_sd', \n",
    "                'Gen_Phase2_Temp_Avg', 'Gen_Phase2_Temp_Avg_av', 'Gen_Phase2_Temp_Avg_sd', \n",
    "                'Blds_PitchAngle_Min', 'Blds_PitchAngle_Min_av', 'Blds_PitchAngle_Min_sd', \n",
    "                'Blds_PitchAngle_Avg', 'Blds_PitchAngle_Avg_av', 'Blds_PitchAngle_Avg_sd', \n",
    "                'Amb_WindSpeed_Avg', 'Amb_WindSpeed_Avg_av', 'Amb_WindSpeed_Avg_sd', \n",
    "                'Amb_WindSpeed_Std', 'Amb_WindSpeed_Std_av', 'Amb_WindSpeed_Std_sd', \n",
    "                'Cont_Top_Temp_Avg', 'Cont_Top_Temp_Avg_av', 'Cont_Top_Temp_Avg_sd', \n",
    "                'Cont_VCP_Temp_Avg', 'Cont_VCP_Temp_Avg_av', 'Cont_VCP_Temp_Avg_sd',\n",
    "                'Grd_InverterPhase1_Temp_Avg', 'Grd_InverterPhase1_Temp_Avg_av', 'Grd_InverterPhase1_Temp_Avg_sd']"
   ]
  },
  {
   "cell_type": "code",
   "execution_count": 15,
   "id": "impressed-fault",
   "metadata": {
    "ExecuteTime": {
     "end_time": "2021-03-26T15:20:49.455603Z",
     "start_time": "2021-03-26T15:20:49.442509Z"
    }
   },
   "outputs": [],
   "source": [
    "# Drop columns\n",
    "generator_train_ = generator_train.drop(columns = gen_col_drop)\n",
    "generator_test_ = generator_test.drop(columns = gen_col_drop)"
   ]
  },
  {
   "cell_type": "code",
   "execution_count": 16,
   "id": "statistical-surge",
   "metadata": {
    "ExecuteTime": {
     "end_time": "2021-03-26T15:20:49.519511Z",
     "start_time": "2021-03-26T15:20:49.457921Z"
    }
   },
   "outputs": [],
   "source": [
    "# Scale\n",
    "X_train_gen, X_test_gen = scale(generator_train_, generator_test_)"
   ]
  },
  {
   "cell_type": "code",
   "execution_count": 17,
   "id": "complex-mitchell",
   "metadata": {
    "ExecuteTime": {
     "end_time": "2021-03-26T15:20:49.533704Z",
     "start_time": "2021-03-26T15:20:49.521600Z"
    }
   },
   "outputs": [],
   "source": [
    "# Define target and Data Augmentation on training data\n",
    "y_train_gen = generator_train['Failure']\n",
    "y_test_gen = generator_test['Failure']\n",
    "X_train_gen, y_train_gen = data_aug(X_train_gen, y_train_gen)"
   ]
  },
  {
   "cell_type": "code",
   "execution_count": 18,
   "id": "deadly-antenna",
   "metadata": {
    "ExecuteTime": {
     "end_time": "2021-03-26T15:21:16.232136Z",
     "start_time": "2021-03-26T15:20:49.535457Z"
    },
    "scrolled": true
   },
   "outputs": [
    {
     "name": "stdout",
     "output_type": "stream",
     "text": [
      "\n",
      "Best Parameters:\n",
      " LogisticRegression(C=10, max_iter=3000, n_jobs=-1, random_state=42)\n",
      "              precision    recall  f1-score   support\n",
      "\n",
      "           0       0.94      0.82      0.87      1161\n",
      "           1       0.00      0.00      0.00        59\n",
      "\n",
      "    accuracy                           0.78      1220\n",
      "   macro avg       0.47      0.41      0.44      1220\n",
      "weighted avg       0.90      0.78      0.83      1220\n",
      "\n",
      "[[947 214]\n",
      " [ 59   0]]\n"
     ]
    },
    {
     "data": {
      "image/png": "[encoded data removed]",
      "text/plain": [
       "<Figure size 1080x360 with 2 Axes>"
      ]
     },
     "metadata": {
      "needs_background": "light"
     },
     "output_type": "display_data"
    },
    {
     "name": "stdout",
     "output_type": "stream",
     "text": [
      "\n",
      "Best Parameters:\n",
      " RandomForestClassifier(criterion='entropy', max_depth=10, n_estimators=50,\n",
      "                       n_jobs=-1, random_state=42)\n",
      "              precision    recall  f1-score   support\n",
      "\n",
      "           0       0.95      1.00      0.98      1161\n",
      "           1       0.00      0.00      0.00        59\n",
      "\n",
      "    accuracy                           0.95      1220\n",
      "   macro avg       0.48      0.50      0.49      1220\n",
      "weighted avg       0.91      0.95      0.93      1220\n",
      "\n",
      "[[1161    0]\n",
      " [  59    0]]\n"
     ]
    },
    {
     "data": {
      "image/png": "[encoded data removed]",
      "text/plain": [
       "<Figure size 1080x360 with 2 Axes>"
      ]
     },
     "metadata": {
      "needs_background": "light"
     },
     "output_type": "display_data"
    },
    {
     "ename": "KeyboardInterrupt",
     "evalue": "",
     "output_type": "error",
     "traceback": [
      "\u001b[0;31m---------------------------------------------------------------------------\u001b[0m",
      "\u001b[0;31mKeyboardInterrupt\u001b[0m                         Traceback (most recent call last)",
      "\u001b[0;32m<ipython-input-18-846e8caa5986>\u001b[0m in \u001b[0;36m<module>\u001b[0;34m\u001b[0m\n\u001b[1;32m      1\u001b[0m \u001b[0mclf_logreg_gen\u001b[0m\u001b[0;34m,\u001b[0m \u001b[0mpred_logreg_gen\u001b[0m \u001b[0;34m=\u001b[0m \u001b[0mlogreg\u001b[0m\u001b[0;34m(\u001b[0m\u001b[0mX_train_gen\u001b[0m\u001b[0;34m,\u001b[0m \u001b[0mX_test_gen\u001b[0m\u001b[0;34m,\u001b[0m \u001b[0my_train_gen\u001b[0m\u001b[0;34m,\u001b[0m \u001b[0my_test_gen\u001b[0m\u001b[0;34m)\u001b[0m\u001b[0;34m\u001b[0m\u001b[0;34m\u001b[0m\u001b[0m\n\u001b[1;32m      2\u001b[0m \u001b[0mclf_rfc_gen\u001b[0m\u001b[0;34m,\u001b[0m \u001b[0mpred_rfc_gen\u001b[0m \u001b[0;34m=\u001b[0m \u001b[0mrfc\u001b[0m\u001b[0;34m(\u001b[0m\u001b[0mX_train_gen\u001b[0m\u001b[0;34m,\u001b[0m \u001b[0mX_test_gen\u001b[0m\u001b[0;34m,\u001b[0m \u001b[0my_train_gen\u001b[0m\u001b[0;34m,\u001b[0m \u001b[0my_test_gen\u001b[0m\u001b[0;34m)\u001b[0m\u001b[0;34m\u001b[0m\u001b[0;34m\u001b[0m\u001b[0m\n\u001b[0;32m----> 3\u001b[0;31m \u001b[0mclf_gbc_gen\u001b[0m\u001b[0;34m,\u001b[0m \u001b[0mpred_gbc_gen\u001b[0m \u001b[0;34m=\u001b[0m \u001b[0mgbc\u001b[0m\u001b[0;34m(\u001b[0m\u001b[0mX_train_gen\u001b[0m\u001b[0;34m,\u001b[0m \u001b[0mX_test_gen\u001b[0m\u001b[0;34m,\u001b[0m \u001b[0my_train_gen\u001b[0m\u001b[0;34m,\u001b[0m \u001b[0my_test_gen\u001b[0m\u001b[0;34m)\u001b[0m\u001b[0;34m\u001b[0m\u001b[0;34m\u001b[0m\u001b[0m\n\u001b[0m\u001b[1;32m      4\u001b[0m \u001b[0mclf_knn_gen\u001b[0m\u001b[0;34m,\u001b[0m \u001b[0mpred_knn_gen\u001b[0m \u001b[0;34m=\u001b[0m \u001b[0mknn\u001b[0m\u001b[0;34m(\u001b[0m\u001b[0mX_train_gen\u001b[0m\u001b[0;34m,\u001b[0m \u001b[0mX_test_gen\u001b[0m\u001b[0;34m,\u001b[0m \u001b[0my_train_gen\u001b[0m\u001b[0;34m,\u001b[0m \u001b[0my_test_gen\u001b[0m\u001b[0;34m)\u001b[0m\u001b[0;34m\u001b[0m\u001b[0;34m\u001b[0m\u001b[0m\n\u001b[1;32m      5\u001b[0m \u001b[0mclf_abc_gen\u001b[0m\u001b[0;34m,\u001b[0m \u001b[0mpred_abc_gen\u001b[0m \u001b[0;34m=\u001b[0m \u001b[0mabc\u001b[0m\u001b[0;34m(\u001b[0m\u001b[0mX_train_gen\u001b[0m\u001b[0;34m,\u001b[0m \u001b[0mX_test_gen\u001b[0m\u001b[0;34m,\u001b[0m \u001b[0my_train_gen\u001b[0m\u001b[0;34m,\u001b[0m \u001b[0my_test_gen\u001b[0m\u001b[0;34m)\u001b[0m\u001b[0;34m\u001b[0m\u001b[0;34m\u001b[0m\u001b[0m\n",
      "\u001b[0;32m<ipython-input-9-a0fbc84bf2c5>\u001b[0m in \u001b[0;36mgbc\u001b[0;34m(X_train, X_test, y_train, y_test)\u001b[0m\n\u001b[1;32m      6\u001b[0m     \u001b[0mgs_score\u001b[0m \u001b[0;34m=\u001b[0m \u001b[0;34m'roc_auc'\u001b[0m\u001b[0;34m\u001b[0m\u001b[0;34m\u001b[0m\u001b[0m\n\u001b[1;32m      7\u001b[0m \u001b[0;34m\u001b[0m\u001b[0m\n\u001b[0;32m----> 8\u001b[0;31m     \u001b[0mclf_gbc\u001b[0m\u001b[0;34m,\u001b[0m \u001b[0mpred_gbc\u001b[0m\u001b[0;34m=\u001b[0m \u001b[0mbin_classify\u001b[0m\u001b[0;34m(\u001b[0m\u001b[0mmodel\u001b[0m\u001b[0;34m,\u001b[0m \u001b[0mclf_gbc\u001b[0m\u001b[0;34m,\u001b[0m \u001b[0mX_train\u001b[0m\u001b[0;34m,\u001b[0m \u001b[0mX_test\u001b[0m\u001b[0;34m,\u001b[0m \u001b[0my_train\u001b[0m\u001b[0;34m,\u001b[0m \u001b[0my_test\u001b[0m\u001b[0;34m,\u001b[0m \u001b[0mparams\u001b[0m\u001b[0;34m=\u001b[0m\u001b[0mgs_params\u001b[0m\u001b[0;34m,\u001b[0m \u001b[0mscore\u001b[0m\u001b[0;34m=\u001b[0m\u001b[0mgs_score\u001b[0m\u001b[0;34m)\u001b[0m\u001b[0;34m\u001b[0m\u001b[0;34m\u001b[0m\u001b[0m\n\u001b[0m\u001b[1;32m      9\u001b[0m     \u001b[0mprint\u001b[0m\u001b[0;34m(\u001b[0m\u001b[0;34m'\\nBest Parameters:\\n'\u001b[0m\u001b[0;34m,\u001b[0m\u001b[0mclf_gbc\u001b[0m\u001b[0;34m)\u001b[0m\u001b[0;34m\u001b[0m\u001b[0;34m\u001b[0m\u001b[0m\n\u001b[1;32m     10\u001b[0m \u001b[0;34m\u001b[0m\u001b[0m\n",
      "\u001b[0;32m<ipython-input-5-60f0cba0a481>\u001b[0m in \u001b[0;36mbin_classify\u001b[0;34m(model, clf, X_train, X_test, y_train, y_test, params, score)\u001b[0m\n\u001b[1;32m      5\u001b[0m     \u001b[0mgrid_search\u001b[0m \u001b[0;34m=\u001b[0m \u001b[0mGridSearchCV\u001b[0m\u001b[0;34m(\u001b[0m\u001b[0mestimator\u001b[0m\u001b[0;34m=\u001b[0m\u001b[0mclf\u001b[0m\u001b[0;34m,\u001b[0m \u001b[0mparam_grid\u001b[0m\u001b[0;34m=\u001b[0m\u001b[0mparams\u001b[0m\u001b[0;34m,\u001b[0m \u001b[0mcv\u001b[0m\u001b[0;34m=\u001b[0m\u001b[0;36m5\u001b[0m\u001b[0;34m,\u001b[0m \u001b[0mscoring\u001b[0m\u001b[0;34m=\u001b[0m\u001b[0mscore\u001b[0m\u001b[0;34m,\u001b[0m \u001b[0mn_jobs\u001b[0m\u001b[0;34m=\u001b[0m\u001b[0;34m-\u001b[0m\u001b[0;36m1\u001b[0m\u001b[0;34m)\u001b[0m\u001b[0;34m\u001b[0m\u001b[0;34m\u001b[0m\u001b[0m\n\u001b[1;32m      6\u001b[0m \u001b[0;34m\u001b[0m\u001b[0m\n\u001b[0;32m----> 7\u001b[0;31m     \u001b[0mgrid_search\u001b[0m\u001b[0;34m.\u001b[0m\u001b[0mfit\u001b[0m\u001b[0;34m(\u001b[0m\u001b[0mX_train\u001b[0m\u001b[0;34m,\u001b[0m \u001b[0my_train\u001b[0m\u001b[0;34m)\u001b[0m\u001b[0;34m\u001b[0m\u001b[0;34m\u001b[0m\u001b[0m\n\u001b[0m\u001b[1;32m      8\u001b[0m     \u001b[0my_pred\u001b[0m \u001b[0;34m=\u001b[0m \u001b[0mgrid_search\u001b[0m\u001b[0;34m.\u001b[0m\u001b[0mpredict\u001b[0m\u001b[0;34m(\u001b[0m\u001b[0mX_test\u001b[0m\u001b[0;34m)\u001b[0m\u001b[0;34m\u001b[0m\u001b[0;34m\u001b[0m\u001b[0m\n\u001b[1;32m      9\u001b[0m \u001b[0;34m\u001b[0m\u001b[0m\n",
      "\u001b[0;32m~/.pyenv/versions/3.7.2/lib/python3.7/site-packages/sklearn/utils/validation.py\u001b[0m in \u001b[0;36minner_f\u001b[0;34m(*args, **kwargs)\u001b[0m\n\u001b[1;32m     61\u001b[0m             \u001b[0mextra_args\u001b[0m \u001b[0;34m=\u001b[0m \u001b[0mlen\u001b[0m\u001b[0;34m(\u001b[0m\u001b[0margs\u001b[0m\u001b[0;34m)\u001b[0m \u001b[0;34m-\u001b[0m \u001b[0mlen\u001b[0m\u001b[0;34m(\u001b[0m\u001b[0mall_args\u001b[0m\u001b[0;34m)\u001b[0m\u001b[0;34m\u001b[0m\u001b[0;34m\u001b[0m\u001b[0m\n\u001b[1;32m     62\u001b[0m             \u001b[0;32mif\u001b[0m \u001b[0mextra_args\u001b[0m \u001b[0;34m<=\u001b[0m \u001b[0;36m0\u001b[0m\u001b[0;34m:\u001b[0m\u001b[0;34m\u001b[0m\u001b[0;34m\u001b[0m\u001b[0m\n\u001b[0;32m---> 63\u001b[0;31m                 \u001b[0;32mreturn\u001b[0m \u001b[0mf\u001b[0m\u001b[0;34m(\u001b[0m\u001b[0;34m*\u001b[0m\u001b[0margs\u001b[0m\u001b[0;34m,\u001b[0m \u001b[0;34m**\u001b[0m\u001b[0mkwargs\u001b[0m\u001b[0;34m)\u001b[0m\u001b[0;34m\u001b[0m\u001b[0;34m\u001b[0m\u001b[0m\n\u001b[0m\u001b[1;32m     64\u001b[0m \u001b[0;34m\u001b[0m\u001b[0m\n\u001b[1;32m     65\u001b[0m             \u001b[0;31m# extra_args > 0\u001b[0m\u001b[0;34m\u001b[0m\u001b[0;34m\u001b[0m\u001b[0;34m\u001b[0m\u001b[0m\n",
      "\u001b[0;32m~/.pyenv/versions/3.7.2/lib/python3.7/site-packages/sklearn/model_selection/_search.py\u001b[0m in \u001b[0;36mfit\u001b[0;34m(self, X, y, groups, **fit_params)\u001b[0m\n\u001b[1;32m    839\u001b[0m                 \u001b[0;32mreturn\u001b[0m \u001b[0mresults\u001b[0m\u001b[0;34m\u001b[0m\u001b[0;34m\u001b[0m\u001b[0m\n\u001b[1;32m    840\u001b[0m \u001b[0;34m\u001b[0m\u001b[0m\n\u001b[0;32m--> 841\u001b[0;31m             \u001b[0mself\u001b[0m\u001b[0;34m.\u001b[0m\u001b[0m_run_search\u001b[0m\u001b[0;34m(\u001b[0m\u001b[0mevaluate_candidates\u001b[0m\u001b[0;34m)\u001b[0m\u001b[0;34m\u001b[0m\u001b[0;34m\u001b[0m\u001b[0m\n\u001b[0m\u001b[1;32m    842\u001b[0m \u001b[0;34m\u001b[0m\u001b[0m\n\u001b[1;32m    843\u001b[0m             \u001b[0;31m# multimetric is determined here because in the case of a callable\u001b[0m\u001b[0;34m\u001b[0m\u001b[0;34m\u001b[0m\u001b[0;34m\u001b[0m\u001b[0m\n",
      "\u001b[0;32m~/.pyenv/versions/3.7.2/lib/python3.7/site-packages/sklearn/model_selection/_search.py\u001b[0m in \u001b[0;36m_run_search\u001b[0;34m(self, evaluate_candidates)\u001b[0m\n\u001b[1;32m   1286\u001b[0m     \u001b[0;32mdef\u001b[0m \u001b[0m_run_search\u001b[0m\u001b[0;34m(\u001b[0m\u001b[0mself\u001b[0m\u001b[0;34m,\u001b[0m \u001b[0mevaluate_candidates\u001b[0m\u001b[0;34m)\u001b[0m\u001b[0;34m:\u001b[0m\u001b[0;34m\u001b[0m\u001b[0;34m\u001b[0m\u001b[0m\n\u001b[1;32m   1287\u001b[0m         \u001b[0;34m\"\"\"Search all candidates in param_grid\"\"\"\u001b[0m\u001b[0;34m\u001b[0m\u001b[0;34m\u001b[0m\u001b[0m\n\u001b[0;32m-> 1288\u001b[0;31m         \u001b[0mevaluate_candidates\u001b[0m\u001b[0;34m(\u001b[0m\u001b[0mParameterGrid\u001b[0m\u001b[0;34m(\u001b[0m\u001b[0mself\u001b[0m\u001b[0;34m.\u001b[0m\u001b[0mparam_grid\u001b[0m\u001b[0;34m)\u001b[0m\u001b[0;34m)\u001b[0m\u001b[0;34m\u001b[0m\u001b[0;34m\u001b[0m\u001b[0m\n\u001b[0m\u001b[1;32m   1289\u001b[0m \u001b[0;34m\u001b[0m\u001b[0m\n\u001b[1;32m   1290\u001b[0m \u001b[0;34m\u001b[0m\u001b[0m\n",
      "\u001b[0;32m~/.pyenv/versions/3.7.2/lib/python3.7/site-packages/sklearn/model_selection/_search.py\u001b[0m in \u001b[0;36mevaluate_candidates\u001b[0;34m(candidate_params, cv, more_results)\u001b[0m\n\u001b[1;32m    807\u001b[0m                                    (split_idx, (train, test)) in product(\n\u001b[1;32m    808\u001b[0m                                    \u001b[0menumerate\u001b[0m\u001b[0;34m(\u001b[0m\u001b[0mcandidate_params\u001b[0m\u001b[0;34m)\u001b[0m\u001b[0;34m,\u001b[0m\u001b[0;34m\u001b[0m\u001b[0;34m\u001b[0m\u001b[0m\n\u001b[0;32m--> 809\u001b[0;31m                                    enumerate(cv.split(X, y, groups))))\n\u001b[0m\u001b[1;32m    810\u001b[0m \u001b[0;34m\u001b[0m\u001b[0m\n\u001b[1;32m    811\u001b[0m                 \u001b[0;32mif\u001b[0m \u001b[0mlen\u001b[0m\u001b[0;34m(\u001b[0m\u001b[0mout\u001b[0m\u001b[0;34m)\u001b[0m \u001b[0;34m<\u001b[0m \u001b[0;36m1\u001b[0m\u001b[0;34m:\u001b[0m\u001b[0;34m\u001b[0m\u001b[0;34m\u001b[0m\u001b[0m\n",
      "\u001b[0;32m~/.pyenv/versions/3.7.2/lib/python3.7/site-packages/joblib/parallel.py\u001b[0m in \u001b[0;36m__call__\u001b[0;34m(self, iterable)\u001b[0m\n\u001b[1;32m   1052\u001b[0m \u001b[0;34m\u001b[0m\u001b[0m\n\u001b[1;32m   1053\u001b[0m             \u001b[0;32mwith\u001b[0m \u001b[0mself\u001b[0m\u001b[0;34m.\u001b[0m\u001b[0m_backend\u001b[0m\u001b[0;34m.\u001b[0m\u001b[0mretrieval_context\u001b[0m\u001b[0;34m(\u001b[0m\u001b[0;34m)\u001b[0m\u001b[0;34m:\u001b[0m\u001b[0;34m\u001b[0m\u001b[0;34m\u001b[0m\u001b[0m\n\u001b[0;32m-> 1054\u001b[0;31m                 \u001b[0mself\u001b[0m\u001b[0;34m.\u001b[0m\u001b[0mretrieve\u001b[0m\u001b[0;34m(\u001b[0m\u001b[0;34m)\u001b[0m\u001b[0;34m\u001b[0m\u001b[0;34m\u001b[0m\u001b[0m\n\u001b[0m\u001b[1;32m   1055\u001b[0m             \u001b[0;31m# Make sure that we get a last message telling us we are done\u001b[0m\u001b[0;34m\u001b[0m\u001b[0;34m\u001b[0m\u001b[0;34m\u001b[0m\u001b[0m\n\u001b[1;32m   1056\u001b[0m             \u001b[0melapsed_time\u001b[0m \u001b[0;34m=\u001b[0m \u001b[0mtime\u001b[0m\u001b[0;34m.\u001b[0m\u001b[0mtime\u001b[0m\u001b[0;34m(\u001b[0m\u001b[0;34m)\u001b[0m \u001b[0;34m-\u001b[0m \u001b[0mself\u001b[0m\u001b[0;34m.\u001b[0m\u001b[0m_start_time\u001b[0m\u001b[0;34m\u001b[0m\u001b[0;34m\u001b[0m\u001b[0m\n",
      "\u001b[0;32m~/.pyenv/versions/3.7.2/lib/python3.7/site-packages/joblib/parallel.py\u001b[0m in \u001b[0;36mretrieve\u001b[0;34m(self)\u001b[0m\n\u001b[1;32m    931\u001b[0m             \u001b[0;32mtry\u001b[0m\u001b[0;34m:\u001b[0m\u001b[0;34m\u001b[0m\u001b[0;34m\u001b[0m\u001b[0m\n\u001b[1;32m    932\u001b[0m                 \u001b[0;32mif\u001b[0m \u001b[0mgetattr\u001b[0m\u001b[0;34m(\u001b[0m\u001b[0mself\u001b[0m\u001b[0;34m.\u001b[0m\u001b[0m_backend\u001b[0m\u001b[0;34m,\u001b[0m \u001b[0;34m'supports_timeout'\u001b[0m\u001b[0;34m,\u001b[0m \u001b[0;32mFalse\u001b[0m\u001b[0;34m)\u001b[0m\u001b[0;34m:\u001b[0m\u001b[0;34m\u001b[0m\u001b[0;34m\u001b[0m\u001b[0m\n\u001b[0;32m--> 933\u001b[0;31m                     \u001b[0mself\u001b[0m\u001b[0;34m.\u001b[0m\u001b[0m_output\u001b[0m\u001b[0;34m.\u001b[0m\u001b[0mextend\u001b[0m\u001b[0;34m(\u001b[0m\u001b[0mjob\u001b[0m\u001b[0;34m.\u001b[0m\u001b[0mget\u001b[0m\u001b[0;34m(\u001b[0m\u001b[0mtimeout\u001b[0m\u001b[0;34m=\u001b[0m\u001b[0mself\u001b[0m\u001b[0;34m.\u001b[0m\u001b[0mtimeout\u001b[0m\u001b[0;34m)\u001b[0m\u001b[0;34m)\u001b[0m\u001b[0;34m\u001b[0m\u001b[0;34m\u001b[0m\u001b[0m\n\u001b[0m\u001b[1;32m    934\u001b[0m                 \u001b[0;32melse\u001b[0m\u001b[0;34m:\u001b[0m\u001b[0;34m\u001b[0m\u001b[0;34m\u001b[0m\u001b[0m\n\u001b[1;32m    935\u001b[0m                     \u001b[0mself\u001b[0m\u001b[0;34m.\u001b[0m\u001b[0m_output\u001b[0m\u001b[0;34m.\u001b[0m\u001b[0mextend\u001b[0m\u001b[0;34m(\u001b[0m\u001b[0mjob\u001b[0m\u001b[0;34m.\u001b[0m\u001b[0mget\u001b[0m\u001b[0;34m(\u001b[0m\u001b[0;34m)\u001b[0m\u001b[0;34m)\u001b[0m\u001b[0;34m\u001b[0m\u001b[0;34m\u001b[0m\u001b[0m\n",
      "\u001b[0;32m~/.pyenv/versions/3.7.2/lib/python3.7/site-packages/joblib/_parallel_backends.py\u001b[0m in \u001b[0;36mwrap_future_result\u001b[0;34m(future, timeout)\u001b[0m\n\u001b[1;32m    540\u001b[0m         AsyncResults.get from multiprocessing.\"\"\"\n\u001b[1;32m    541\u001b[0m         \u001b[0;32mtry\u001b[0m\u001b[0;34m:\u001b[0m\u001b[0;34m\u001b[0m\u001b[0;34m\u001b[0m\u001b[0m\n\u001b[0;32m--> 542\u001b[0;31m             \u001b[0;32mreturn\u001b[0m \u001b[0mfuture\u001b[0m\u001b[0;34m.\u001b[0m\u001b[0mresult\u001b[0m\u001b[0;34m(\u001b[0m\u001b[0mtimeout\u001b[0m\u001b[0;34m=\u001b[0m\u001b[0mtimeout\u001b[0m\u001b[0;34m)\u001b[0m\u001b[0;34m\u001b[0m\u001b[0;34m\u001b[0m\u001b[0m\n\u001b[0m\u001b[1;32m    543\u001b[0m         \u001b[0;32mexcept\u001b[0m \u001b[0mCfTimeoutError\u001b[0m \u001b[0;32mas\u001b[0m \u001b[0me\u001b[0m\u001b[0;34m:\u001b[0m\u001b[0;34m\u001b[0m\u001b[0;34m\u001b[0m\u001b[0m\n\u001b[1;32m    544\u001b[0m             \u001b[0;32mraise\u001b[0m \u001b[0mTimeoutError\u001b[0m \u001b[0;32mfrom\u001b[0m \u001b[0me\u001b[0m\u001b[0;34m\u001b[0m\u001b[0;34m\u001b[0m\u001b[0m\n",
      "\u001b[0;32m~/.pyenv/versions/3.7.2/lib/python3.7/concurrent/futures/_base.py\u001b[0m in \u001b[0;36mresult\u001b[0;34m(self, timeout)\u001b[0m\n\u001b[1;32m    425\u001b[0m                 \u001b[0;32mreturn\u001b[0m \u001b[0mself\u001b[0m\u001b[0;34m.\u001b[0m\u001b[0m__get_result\u001b[0m\u001b[0;34m(\u001b[0m\u001b[0;34m)\u001b[0m\u001b[0;34m\u001b[0m\u001b[0;34m\u001b[0m\u001b[0m\n\u001b[1;32m    426\u001b[0m \u001b[0;34m\u001b[0m\u001b[0m\n\u001b[0;32m--> 427\u001b[0;31m             \u001b[0mself\u001b[0m\u001b[0;34m.\u001b[0m\u001b[0m_condition\u001b[0m\u001b[0;34m.\u001b[0m\u001b[0mwait\u001b[0m\u001b[0;34m(\u001b[0m\u001b[0mtimeout\u001b[0m\u001b[0;34m)\u001b[0m\u001b[0;34m\u001b[0m\u001b[0;34m\u001b[0m\u001b[0m\n\u001b[0m\u001b[1;32m    428\u001b[0m \u001b[0;34m\u001b[0m\u001b[0m\n\u001b[1;32m    429\u001b[0m             \u001b[0;32mif\u001b[0m \u001b[0mself\u001b[0m\u001b[0;34m.\u001b[0m\u001b[0m_state\u001b[0m \u001b[0;32min\u001b[0m \u001b[0;34m[\u001b[0m\u001b[0mCANCELLED\u001b[0m\u001b[0;34m,\u001b[0m \u001b[0mCANCELLED_AND_NOTIFIED\u001b[0m\u001b[0;34m]\u001b[0m\u001b[0;34m:\u001b[0m\u001b[0;34m\u001b[0m\u001b[0;34m\u001b[0m\u001b[0m\n",
      "\u001b[0;32m~/.pyenv/versions/3.7.2/lib/python3.7/threading.py\u001b[0m in \u001b[0;36mwait\u001b[0;34m(self, timeout)\u001b[0m\n\u001b[1;32m    294\u001b[0m         \u001b[0;32mtry\u001b[0m\u001b[0;34m:\u001b[0m    \u001b[0;31m# restore state no matter what (e.g., KeyboardInterrupt)\u001b[0m\u001b[0;34m\u001b[0m\u001b[0;34m\u001b[0m\u001b[0m\n\u001b[1;32m    295\u001b[0m             \u001b[0;32mif\u001b[0m \u001b[0mtimeout\u001b[0m \u001b[0;32mis\u001b[0m \u001b[0;32mNone\u001b[0m\u001b[0;34m:\u001b[0m\u001b[0;34m\u001b[0m\u001b[0;34m\u001b[0m\u001b[0m\n\u001b[0;32m--> 296\u001b[0;31m                 \u001b[0mwaiter\u001b[0m\u001b[0;34m.\u001b[0m\u001b[0macquire\u001b[0m\u001b[0;34m(\u001b[0m\u001b[0;34m)\u001b[0m\u001b[0;34m\u001b[0m\u001b[0;34m\u001b[0m\u001b[0m\n\u001b[0m\u001b[1;32m    297\u001b[0m                 \u001b[0mgotit\u001b[0m \u001b[0;34m=\u001b[0m \u001b[0;32mTrue\u001b[0m\u001b[0;34m\u001b[0m\u001b[0;34m\u001b[0m\u001b[0m\n\u001b[1;32m    298\u001b[0m             \u001b[0;32melse\u001b[0m\u001b[0;34m:\u001b[0m\u001b[0;34m\u001b[0m\u001b[0;34m\u001b[0m\u001b[0m\n",
      "\u001b[0;31mKeyboardInterrupt\u001b[0m: "
     ]
    }
   ],
   "source": [
    "clf_logreg_gen, pred_logreg_gen = logreg(X_train_gen, X_test_gen, y_train_gen, y_test_gen)\n",
    "clf_rfc_gen, pred_rfc_gen = rfc(X_train_gen, X_test_gen, y_train_gen, y_test_gen)\n",
    "clf_gbc_gen, pred_gbc_gen = gbc(X_train_gen, X_test_gen, y_train_gen, y_test_gen)\n",
    "clf_knn_gen, pred_knn_gen = knn(X_train_gen, X_test_gen, y_train_gen, y_test_gen)\n",
    "clf_abc_gen, pred_abc_gen = abc(X_train_gen, X_test_gen, y_train_gen, y_test_gen)\n",
    "clf_svc_gen, pred_svc_gen = svc(X_train_gen, X_test_gen, y_train_gen, y_test_gen)\n",
    "clf_gnb_gen, pred_gnb_gen = gnb(X_train_gen, X_test_gen, y_train_gen, y_test_gen)"
   ]
  },
  {
   "cell_type": "markdown",
   "id": "devoted-effects",
   "metadata": {},
   "source": [
    "## GENERATOR BEARING"
   ]
  },
  {
   "cell_type": "code",
   "execution_count": null,
   "id": "utility-clause",
   "metadata": {
    "ExecuteTime": {
     "end_time": "2021-03-26T15:21:16.236118Z",
     "start_time": "2021-03-26T15:20:48.497Z"
    }
   },
   "outputs": [],
   "source": [
    "# By exploration, drop columns:\n",
    "bear_col_drop = ['Gen_RPM_Min', 'Gen_RPM_Min_av', 'Gen_RPM_Min_sd', \n",
    "                'Gen_RPM_Avg', 'Gen_RPM_Avg_av', 'Gen_RPM_Avg_sd',\n",
    "                'Gen_Phase1_Temp_Avg', 'Gen_Phase1_Temp_Avg_av', 'Gen_Phase1_Temp_Avg_sd', \n",
    "                'Gen_Phase2_Temp_Avg', 'Gen_Phase2_Temp_Avg_av', 'Gen_Phase2_Temp_Avg_sd', \n",
    "                'Blds_PitchAngle_Min', 'Blds_PitchAngle_Min_av', 'Blds_PitchAngle_Min_sd', \n",
    "                'Blds_PitchAngle_Avg', 'Blds_PitchAngle_Avg_av', 'Blds_PitchAngle_Avg_sd', \n",
    "                'Amb_WindSpeed_Avg', 'Amb_WindSpeed_Avg_av', 'Amb_WindSpeed_Avg_sd', \n",
    "                'Amb_WindSpeed_Std', 'Amb_WindSpeed_Std_av', 'Amb_WindSpeed_Std_sd', \n",
    "                'Cont_Top_Temp_Avg', 'Cont_Top_Temp_Avg_av', 'Cont_Top_Temp_Avg_sd', \n",
    "                'Cont_VCP_Temp_Avg', 'Cont_VCP_Temp_Avg_av', 'Cont_VCP_Temp_Avg_sd',\n",
    "                 'Grd_InverterPhase1_Temp_Avg', 'Grd_InverterPhase1_Temp_Avg_av', 'Grd_InverterPhase1_Temp_Avg_sd']"
   ]
  },
  {
   "cell_type": "code",
   "execution_count": null,
   "id": "standing-worth",
   "metadata": {
    "ExecuteTime": {
     "end_time": "2021-03-26T15:21:16.237545Z",
     "start_time": "2021-03-26T15:20:48.499Z"
    }
   },
   "outputs": [],
   "source": [
    "# Drop columns\n",
    "gen_bear_train_ = gen_bear_train.drop(columns = bear_col_drop)\n",
    "gen_bear_test_ = gen_bear_test.drop(columns = bear_col_drop)"
   ]
  },
  {
   "cell_type": "code",
   "execution_count": null,
   "id": "hollywood-officer",
   "metadata": {
    "ExecuteTime": {
     "end_time": "2021-03-26T15:21:16.239506Z",
     "start_time": "2021-03-26T15:20:48.501Z"
    }
   },
   "outputs": [],
   "source": [
    "# Scale\n",
    "X_train_bear, X_test_bear = scale(gen_bear_train_, gen_bear_test_)"
   ]
  },
  {
   "cell_type": "code",
   "execution_count": null,
   "id": "desperate-coast",
   "metadata": {
    "ExecuteTime": {
     "end_time": "2021-03-26T15:21:16.241182Z",
     "start_time": "2021-03-26T15:20:48.503Z"
    }
   },
   "outputs": [],
   "source": [
    "# Define target and Data Augmentation on training data\n",
    "y_train_bear = gen_bear_train['Failure']\n",
    "y_test_bear = gen_bear_test['Failure']\n",
    "X_train_bear, y_train_bear = data_aug(X_train_bear, y_train_bear)"
   ]
  },
  {
   "cell_type": "code",
   "execution_count": null,
   "id": "chicken-notification",
   "metadata": {
    "ExecuteTime": {
     "end_time": "2021-03-26T15:21:16.242523Z",
     "start_time": "2021-03-26T15:20:48.505Z"
    },
    "scrolled": true
   },
   "outputs": [],
   "source": [
    "clf_logreg_bear, pred_logreg_bear = logreg(X_train_bear, X_test_bear, y_train_bear, y_test_bear)\n",
    "clf_rfc_bear, pred_rfc_bear = rfc(X_train_bear, X_test_bear, y_train_bear, y_test_bear)\n",
    "clf_gbc_bear, pred_gbc_bear = gbc(X_train_bear, X_test_bear, y_train_bear, y_test_bear)\n",
    "clf_knn_bear, pred_knn_bear = knn(X_train_bear, X_test_bear, y_train_bear, y_test_bear)\n",
    "clf_abc_bear, pred_abc_bear = abc(X_train_bear, X_test_bear, y_train_bear, y_test_bear)\n",
    "clf_svc_bear, pred_svc_bear = svc(X_train_bear, X_test_bear, y_train_bear, y_test_bear)\n",
    "clf_gnb_bear, pred_gnb_bear = gnb(X_train_bear, X_test_bear, y_train_bear, y_test_bear)"
   ]
  },
  {
   "cell_type": "markdown",
   "id": "demanding-poverty",
   "metadata": {},
   "source": [
    "## TRANSFORMER"
   ]
  },
  {
   "cell_type": "code",
   "execution_count": null,
   "id": "twelve-therapist",
   "metadata": {
    "ExecuteTime": {
     "end_time": "2021-03-26T15:21:16.243595Z",
     "start_time": "2021-03-26T15:20:48.508Z"
    }
   },
   "outputs": [],
   "source": [
    "# By exploration, drop columns:\n",
    "transf_col_drop = ['HVTrafo_Phase2_Temp_Avg', 'HVTrafo_Phase2_Temp_Avg_av', 'HVTrafo_Phase2_Temp_Avg_sd', \n",
    "                   'HVTrafo_Phase1_Temp_Avg', 'HVTrafo_Phase1_Temp_Avg_av', 'HVTrafo_Phase1_Temp_Avg_sd', \n",
    "                   'Blds_PitchAngle_Min', 'Blds_PitchAngle_Min_av', 'Blds_PitchAngle_Min_sd', \n",
    "                   'Blds_PitchAngle_Avg', 'Blds_PitchAngle_Avg_av', 'Blds_PitchAngle_Avg_sd', \n",
    "                   'Amb_WindSpeed_Avg', 'Amb_WindSpeed_Avg_av', 'Amb_WindSpeed_Avg_sd', \n",
    "                   'Amb_WindSpeed_Std', 'Amb_WindSpeed_Std_av', 'Amb_WindSpeed_Std_sd', \n",
    "                   'Cont_Top_Temp_Avg', 'Cont_Top_Temp_Avg_av', 'Cont_Top_Temp_Avg_sd', \n",
    "                   'Cont_VCP_Temp_Avg', 'Cont_VCP_Temp_Avg_av', 'Cont_VCP_Temp_Avg_sd', \n",
    "                   'Grd_Busbar_Temp_Avg', 'Grd_Busbar_Temp_Avg_av', 'Grd_Busbar_Temp_Avg_sd']"
   ]
  },
  {
   "cell_type": "code",
   "execution_count": null,
   "id": "heated-bulgarian",
   "metadata": {
    "ExecuteTime": {
     "end_time": "2021-03-26T15:21:16.244821Z",
     "start_time": "2021-03-26T15:20:48.510Z"
    }
   },
   "outputs": [],
   "source": [
    "# Drop columns\n",
    "transformer_train_ = transformer_train.drop(columns = transf_col_drop)\n",
    "transformer_test_ = transformer_test.drop(columns = transf_col_drop)"
   ]
  },
  {
   "cell_type": "code",
   "execution_count": null,
   "id": "robust-reasoning",
   "metadata": {
    "ExecuteTime": {
     "end_time": "2021-03-26T15:21:16.246236Z",
     "start_time": "2021-03-26T15:20:48.512Z"
    }
   },
   "outputs": [],
   "source": [
    "# Scale\n",
    "X_train_transf, X_test_transf = scale(transformer_train_, transformer_test_)"
   ]
  },
  {
   "cell_type": "code",
   "execution_count": null,
   "id": "subtle-differential",
   "metadata": {
    "ExecuteTime": {
     "end_time": "2021-03-26T15:21:16.247589Z",
     "start_time": "2021-03-26T15:20:48.514Z"
    }
   },
   "outputs": [],
   "source": [
    "# Define target and Data Augmentation on training data\n",
    "y_train_transf = transformer_train['Failure']\n",
    "y_test_transf = transformer_test['Failure']\n",
    "X_train_transf, y_train_transf = data_aug(X_train_transf, y_train_transf)"
   ]
  },
  {
   "cell_type": "code",
   "execution_count": null,
   "id": "bright-cotton",
   "metadata": {
    "ExecuteTime": {
     "end_time": "2021-03-26T15:21:16.248870Z",
     "start_time": "2021-03-26T15:20:48.517Z"
    },
    "scrolled": true
   },
   "outputs": [],
   "source": [
    "clf_logreg_transf, pred_logreg_transf = logreg(X_train_transf, X_test_transf, y_train_transf, y_test_transf)\n",
    "clf_rfc_transf, pred_rfc_transf = rfc(X_train_transf, X_test_transf, y_train_transf, y_test_transf)\n",
    "clf_gbc_transf, pred_gbc_transf = gbc(X_train_transf, X_test_transf, y_train_transf, y_test_transf)\n",
    "clf_knn_transf, pred_knn_transf = knn(X_train_transf, X_test_transf, y_train_transf, y_test_transf)\n",
    "clf_abc_transf, pred_abc_transf = abc(X_train_transf, X_test_transf, y_train_transf, y_test_transf)\n",
    "clf_svc_transf, pred_svc_transf = svc(X_train_transf, X_test_transf, y_train_transf, y_test_transf)\n",
    "clf_gnb_transf, pred_gnb_transf = gnb(X_train_transf, X_test_transf, y_train_transf, y_test_transf)"
   ]
  },
  {
   "cell_type": "markdown",
   "id": "working-program",
   "metadata": {},
   "source": [
    "## HYDRAULIC"
   ]
  },
  {
   "cell_type": "code",
   "execution_count": null,
   "id": "answering-fusion",
   "metadata": {
    "ExecuteTime": {
     "end_time": "2021-03-26T15:21:16.249915Z",
     "start_time": "2021-03-26T15:20:48.519Z"
    }
   },
   "outputs": [],
   "source": [
    "# By exploration, drop columns:\n",
    "hyd_col_drop = ['Blds_PitchAngle_Min', 'Blds_PitchAngle_Min_av', 'Blds_PitchAngle_Min_sd', \n",
    "                'Blds_PitchAngle_Avg', 'Blds_PitchAngle_Avg_av', 'Blds_PitchAngle_Avg_sd', \n",
    "                'Amb_WindSpeed_Avg', 'Amb_WindSpeed_Avg_av', 'Amb_WindSpeed_Avg_sd', \n",
    "                'Amb_WindSpeed_Min', 'Amb_WindSpeed_Min_av', 'Amb_WindSpeed_Min_sd', \n",
    "                'Cont_Top_Temp_Avg', 'Cont_Top_Temp_Avg_av', 'Cont_Top_Temp_Avg_sd', \n",
    "                'Cont_VCP_Temp_Avg', 'Cont_VCP_Temp_Avg_av', 'Cont_VCP_Temp_Avg_sd', \n",
    "                'Grd_Busbar_Temp_Avg', 'Grd_Busbar_Temp_Avg_av', 'Grd_Busbar_Temp_Avg_sd']"
   ]
  },
  {
   "cell_type": "code",
   "execution_count": null,
   "id": "tamil-savings",
   "metadata": {
    "ExecuteTime": {
     "end_time": "2021-03-26T15:21:16.251115Z",
     "start_time": "2021-03-26T15:20:48.524Z"
    }
   },
   "outputs": [],
   "source": [
    "# Drop columns\n",
    "hydraulic_train_ = hydraulic_train.drop(columns = hyd_col_drop)\n",
    "hydraulic_test_ = hydraulic_test.drop(columns = hyd_col_drop)"
   ]
  },
  {
   "cell_type": "code",
   "execution_count": null,
   "id": "overall-quest",
   "metadata": {
    "ExecuteTime": {
     "end_time": "2021-03-26T15:21:16.252465Z",
     "start_time": "2021-03-26T15:20:48.527Z"
    }
   },
   "outputs": [],
   "source": [
    "# Scale\n",
    "X_train_hyd, X_test_hyd = scale(hydraulic_train_, hydraulic_test_)"
   ]
  },
  {
   "cell_type": "code",
   "execution_count": null,
   "id": "interesting-telling",
   "metadata": {
    "ExecuteTime": {
     "end_time": "2021-03-26T15:21:16.254652Z",
     "start_time": "2021-03-26T15:20:48.530Z"
    }
   },
   "outputs": [],
   "source": [
    "# Define target and Data Augmentation on training data\n",
    "y_train_hyd = hydraulic_train['Failure']\n",
    "y_test_hyd = hydraulic_test['Failure']\n",
    "X_train_hyd, y_train_hyd = data_aug(X_train_hyd, y_train_hyd)"
   ]
  },
  {
   "cell_type": "code",
   "execution_count": null,
   "id": "exceptional-domestic",
   "metadata": {
    "ExecuteTime": {
     "end_time": "2021-03-26T15:21:16.255729Z",
     "start_time": "2021-03-26T15:20:48.533Z"
    }
   },
   "outputs": [],
   "source": [
    "clf_logreg_hyd, pred_logreg_hyd = logreg(X_train_hyd, X_test_hyd, y_train_hyd, y_test_hyd)\n",
    "clf_rfc_hyd, pred_rfc_hyd = rfc(X_train_hyd, X_test_hyd, y_train_hyd, y_test_hyd)\n",
    "clf_gbc_hyd, pred_gbc_hyd = gbc(X_train_hyd, X_test_hyd, y_train_hyd, y_test_hyd)\n",
    "clf_knn_hyd, pred_knn_hyd = knn(X_train_hyd, X_test_hyd, y_train_hyd, y_test_hyd)\n",
    "clf_abc_hyd, pred_abc_hyd = abc(X_train_hyd, X_test_hyd, y_train_hyd, y_test_hyd)\n",
    "clf_svc_hyd, pred_svc_hyd = svc(X_train_hyd, X_test_hyd, y_train_hyd, y_test_hyd)\n",
    "clf_gnb_hyd, pred_gnb_hyd = gnb(X_train_hyd, X_test_hyd, y_train_hyd, y_test_hyd)"
   ]
  },
  {
   "cell_type": "markdown",
   "id": "awful-hampshire",
   "metadata": {},
   "source": [
    "## GEARBOX"
   ]
  },
  {
   "cell_type": "code",
   "execution_count": null,
   "id": "polyphonic-tobacco",
   "metadata": {
    "ExecuteTime": {
     "end_time": "2021-03-26T15:21:16.257419Z",
     "start_time": "2021-03-26T15:20:48.537Z"
    }
   },
   "outputs": [],
   "source": [
    "# By exploration, drop columns:\n",
    "gear_col_drop = ['Blds_PitchAngle_Min', 'Blds_PitchAngle_Min_av', 'Blds_PitchAngle_Min_sd',\n",
    "                'Blds_PitchAngle_Avg', 'Blds_PitchAngle_Avg_av', 'Blds_PitchAngle_Avg_sd', \n",
    "                'Amb_WindSpeed_Avg', 'Amb_WindSpeed_Avg_av', 'Amb_WindSpeed_Avg_sd', \n",
    "                'Amb_WindSpeed_Min', 'Amb_WindSpeed_Min_av', 'Amb_WindSpeed_Min_sd', \n",
    "                'Cont_Top_Temp_Avg', 'Cont_Top_Temp_Avg_av', 'Cont_Top_Temp_Avg_sd', \n",
    "                'Cont_VCP_Temp_Avg', 'Cont_VCP_Temp_Avg_av', 'Cont_VCP_Temp_Avg_sd', \n",
    "                'Grd_Busbar_Temp_Avg', 'Grd_Busbar_Temp_Avg_av', 'Grd_Busbar_Temp_Avg_sd']"
   ]
  },
  {
   "cell_type": "code",
   "execution_count": null,
   "id": "documented-quality",
   "metadata": {
    "ExecuteTime": {
     "end_time": "2021-03-26T15:21:16.258851Z",
     "start_time": "2021-03-26T15:20:48.543Z"
    }
   },
   "outputs": [],
   "source": [
    "# Drop columns\n",
    "gearbox_train_ = gearbox_train.drop(columns = gear_col_drop)\n",
    "gearbox_test_ = gearbox_test.drop(columns = gear_col_drop)"
   ]
  },
  {
   "cell_type": "code",
   "execution_count": null,
   "id": "interstate-future",
   "metadata": {
    "ExecuteTime": {
     "end_time": "2021-03-26T15:21:16.260596Z",
     "start_time": "2021-03-26T15:20:48.546Z"
    }
   },
   "outputs": [],
   "source": [
    "# Scale\n",
    "X_train_gear, X_test_gear = scale(gearbox_train_, gearbox_test_)"
   ]
  },
  {
   "cell_type": "code",
   "execution_count": null,
   "id": "alternate-freeware",
   "metadata": {
    "ExecuteTime": {
     "end_time": "2021-03-26T15:21:16.262093Z",
     "start_time": "2021-03-26T15:20:48.548Z"
    }
   },
   "outputs": [],
   "source": [
    "# Define target and Data Augmentation on training data\n",
    "y_train_gear = gearbox_train['Failure']\n",
    "y_test_gear = gearbox_test['Failure']\n",
    "X_train_gear, y_train_gear = data_aug(X_train_gear, y_train_gear)"
   ]
  },
  {
   "cell_type": "code",
   "execution_count": null,
   "id": "automatic-edwards",
   "metadata": {
    "ExecuteTime": {
     "end_time": "2021-03-26T15:21:16.264586Z",
     "start_time": "2021-03-26T15:20:48.551Z"
    },
    "scrolled": true
   },
   "outputs": [],
   "source": [
    "clf_logreg_gear, pred_logreg_gear = logreg(X_train_gear, X_test_gear, y_train_gear, y_test_gear)\n",
    "clf_rfc_gear, pred_rfc_gear = rfc(X_train_gear, X_test_gear, y_train_gear, y_test_gear)\n",
    "clf_gbc_gear, pred_gbc_gear = gbc(X_train_gear, X_test_gear, y_train_gear, y_test_gear)\n",
    "clf_knn_gear, pred_knn_gear = knn(X_train_gear, X_test_gear, y_train_gear, y_test_gear)\n",
    "clf_abc_gear, pred_abc_gear = abc(X_train_gear, X_test_gear, y_train_gear, y_test_gear)\n",
    "clf_svc_gear, pred_svc_gear = svc(X_train_gear, X_test_gear, y_train_gear, y_test_gear)\n",
    "clf_gnb_gear, pred_gnb_gear = gnb(X_train_gear, X_test_gear, y_train_gear, y_test_gear)"
   ]
  },
  {
   "cell_type": "markdown",
   "id": "bacterial-shelf",
   "metadata": {},
   "source": [
    "### Our models are not good"
   ]
  },
  {
   "cell_type": "markdown",
   "id": "undefined-block",
   "metadata": {},
   "source": [
    "# 2nd Analysis - Try improvements"
   ]
  },
  {
   "cell_type": "markdown",
   "id": "fantastic-negotiation",
   "metadata": {},
   "source": [
    "##### Let's see if we can improve our models just by choosing ONLY the input features for each component"
   ]
  },
  {
   "cell_type": "markdown",
   "id": "surprised-consent",
   "metadata": {},
   "source": [
    "## GENERATOR"
   ]
  },
  {
   "cell_type": "code",
   "execution_count": null,
   "id": "parental-grocery",
   "metadata": {
    "ExecuteTime": {
     "end_time": "2021-03-26T15:21:16.266113Z",
     "start_time": "2021-03-26T15:20:48.556Z"
    }
   },
   "outputs": [],
   "source": [
    "generator_train_2 = generator_train[['Turbine_ID', 'Date','TTF', 'Failure','Gen_RPM_Max', 'Gen_RPM_Min', 'Gen_RPM_Avg',\n",
    "                                    'Gen_RPM_Std', 'Gen_Phase1_Temp_Avg', 'Gen_Phase2_Temp_Avg', 'Gen_Phase3_Temp_Avg', \n",
    "                                    'Gen_SlipRing_Temp_Avg', 'Gen_RPM_Max_av', 'Gen_RPM_Min_av', 'Gen_RPM_Avg_av', \n",
    "                                    'Gen_RPM_Std_av', 'Gen_Phase1_Temp_Avg_av', 'Gen_Phase2_Temp_Avg_av', \n",
    "                                    'Gen_Phase3_Temp_Avg_av', 'Gen_SlipRing_Temp_Avg_av', 'Gen_RPM_Max_sd', 'Gen_RPM_Min_sd',\n",
    "                                    'Gen_RPM_Avg_sd', 'Gen_RPM_Std_sd', 'Gen_Phase1_Temp_Avg_sd', 'Gen_Phase2_Temp_Avg_sd',\n",
    "                                    'Gen_Phase3_Temp_Avg_sd', 'Gen_SlipRing_Temp_Avg_sd']]\n",
    "generator_test_2 = generator_test[['Turbine_ID', 'Date','TTF', 'Failure','Gen_RPM_Max', 'Gen_RPM_Min', 'Gen_RPM_Avg',\n",
    "                                    'Gen_RPM_Std', 'Gen_Phase1_Temp_Avg', 'Gen_Phase2_Temp_Avg', 'Gen_Phase3_Temp_Avg', \n",
    "                                    'Gen_SlipRing_Temp_Avg', 'Gen_RPM_Max_av', 'Gen_RPM_Min_av', 'Gen_RPM_Avg_av', \n",
    "                                    'Gen_RPM_Std_av', 'Gen_Phase1_Temp_Avg_av', 'Gen_Phase2_Temp_Avg_av', \n",
    "                                    'Gen_Phase3_Temp_Avg_av', 'Gen_SlipRing_Temp_Avg_av', 'Gen_RPM_Max_sd', 'Gen_RPM_Min_sd',\n",
    "                                    'Gen_RPM_Avg_sd', 'Gen_RPM_Std_sd', 'Gen_Phase1_Temp_Avg_sd', 'Gen_Phase2_Temp_Avg_sd',\n",
    "                                    'Gen_Phase3_Temp_Avg_sd', 'Gen_SlipRing_Temp_Avg_sd']]"
   ]
  },
  {
   "cell_type": "code",
   "execution_count": null,
   "id": "printable-tooth",
   "metadata": {
    "ExecuteTime": {
     "end_time": "2021-03-26T15:21:16.268750Z",
     "start_time": "2021-03-26T15:20:48.559Z"
    }
   },
   "outputs": [],
   "source": [
    "# Scale\n",
    "X_train_gen_2, X_test_gen_2 = scale(generator_train_2, generator_test_2)"
   ]
  },
  {
   "cell_type": "code",
   "execution_count": null,
   "id": "excess-immune",
   "metadata": {
    "ExecuteTime": {
     "end_time": "2021-03-26T15:21:16.271141Z",
     "start_time": "2021-03-26T15:20:48.561Z"
    }
   },
   "outputs": [],
   "source": [
    "# Define target and Data Augmentation on training data\n",
    "y_train_gen_2 = generator_train['Failure']\n",
    "y_test_gen_2 = generator_test['Failure']\n",
    "X_train_gen_2, y_train_gen_2 = data_aug(X_train_gen_2, y_train_gen_2)"
   ]
  },
  {
   "cell_type": "code",
   "execution_count": null,
   "id": "earlier-death",
   "metadata": {
    "ExecuteTime": {
     "end_time": "2021-03-26T15:21:16.272448Z",
     "start_time": "2021-03-26T15:20:48.565Z"
    }
   },
   "outputs": [],
   "source": [
    "clf_logreg_gen_2, pred_logreg_gen_2 = logreg(X_train_gen_2, X_test_gen_2, y_train_gen_2, y_test_gen_2)\n",
    "clf_rfc_gen_2, pred_rfc_gen_2 = rfc(X_train_gen_2, X_test_gen_2, y_train_gen_2, y_test_gen_2)\n",
    "clf_gbc_gen_2, pred_gbc_gen_2 = gbc(X_train_gen_2, X_test_gen_2, y_train_gen_2, y_test_gen_2)\n",
    "clf_knn_gen_2, pred_knn_gen_2 = knn(X_train_gen_2, X_test_gen_2, y_train_gen_2, y_test_gen_2)\n",
    "clf_abc_gen_2, pred_abc_gen_2 = abc(X_train_gen_2, X_test_gen_2, y_train_gen_2, y_test_gen_2)\n",
    "clf_svc_gen_2, pred_svc_gen_2 = svc(X_train_gen_2, X_test_gen_2, y_train_gen_2, y_test_gen_2)\n",
    "clf_gnb_gen_2, pred_gnb_gen_2 = gnb(X_train_gen_2, X_test_gen_2, y_train_gen_2, y_test_gen_2)"
   ]
  },
  {
   "cell_type": "markdown",
   "id": "express-memorabilia",
   "metadata": {},
   "source": [
    "## GENERATOR BEARING"
   ]
  },
  {
   "cell_type": "code",
   "execution_count": null,
   "id": "cognitive-currency",
   "metadata": {
    "ExecuteTime": {
     "end_time": "2021-03-26T15:21:16.274224Z",
     "start_time": "2021-03-26T15:20:48.568Z"
    }
   },
   "outputs": [],
   "source": [
    "gen_bear_train_2 = gen_bear_train[['Turbine_ID', 'Date','TTF', 'Failure', 'Gen_Bear_Temp_Avg', 'Gen_Bear2_Temp_Avg',\n",
    "                                 'Gen_Bear_Temp_Avg_av', 'Gen_Bear2_Temp_Avg_av', 'Gen_Bear_Temp_Avg_sd',\n",
    "                                  'Gen_Bear2_Temp_Avg_sd']]\n",
    "gen_bear_test_2 = gen_bear_test[['Turbine_ID', 'Date','TTF', 'Failure', 'Gen_Bear_Temp_Avg', 'Gen_Bear2_Temp_Avg',\n",
    "                                 'Gen_Bear_Temp_Avg_av', 'Gen_Bear2_Temp_Avg_av', 'Gen_Bear_Temp_Avg_sd',\n",
    "                                  'Gen_Bear2_Temp_Avg_sd']]"
   ]
  },
  {
   "cell_type": "code",
   "execution_count": null,
   "id": "blessed-daniel",
   "metadata": {
    "ExecuteTime": {
     "end_time": "2021-03-26T15:21:16.275182Z",
     "start_time": "2021-03-26T15:20:48.570Z"
    }
   },
   "outputs": [],
   "source": [
    "# Scale\n",
    "X_train_bear_2, X_test_bear_2 = scale(gen_bear_train_2, gen_bear_test_2)\n",
    "# X_train_bear_2 = gen_bear_train_2.drop(columns=['Turbine_ID', 'Date','TTF', 'Failure']) #Not scale - maybe it finds abnormal behaviour\n",
    "# X_test_bear_2 = gen_bear_test_2.drop(columns=['Turbine_ID', 'Date','TTF', 'Failure']) #Not scale - maybe it finds abnormal behaviour"
   ]
  },
  {
   "cell_type": "code",
   "execution_count": null,
   "id": "retired-apollo",
   "metadata": {
    "ExecuteTime": {
     "end_time": "2021-03-26T15:21:16.275954Z",
     "start_time": "2021-03-26T15:20:48.572Z"
    }
   },
   "outputs": [],
   "source": [
    "# Define target and Data Augmentation on training data\n",
    "y_train_bear_2 = gen_bear_train['Failure']\n",
    "y_test_bear_2 = gen_bear_test['Failure']\n",
    "X_train_bear_2, y_train_bear_2 = data_aug(X_train_bear_2, y_train_bear_2)"
   ]
  },
  {
   "cell_type": "code",
   "execution_count": null,
   "id": "finnish-handle",
   "metadata": {
    "ExecuteTime": {
     "end_time": "2021-03-26T15:21:16.278100Z",
     "start_time": "2021-03-26T15:20:48.575Z"
    }
   },
   "outputs": [],
   "source": [
    "clf_logreg_bear_2, pred_logreg_bear_2 = logreg(X_train_bear_2, X_test_bear_2, y_train_bear_2, y_test_bear_2)\n",
    "clf_rfc_bear_2, pred_rfc_bear_2 = rfc(X_train_bear_2, X_test_bear_2, y_train_bear_2, y_test_bear_2)\n",
    "clf_gbc_bear_2, pred_gbc_bear_2 = gbc(X_train_bear_2, X_test_bear_2, y_train_bear_2, y_test_bear_2)\n",
    "clf_knn_bear_2, pred_knn_bear_2 = knn(X_train_bear_2, X_test_bear_2, y_train_bear_2, y_test_bear_2)\n",
    "clf_abc_bear_2, pred_abc_bear_2 = abc(X_train_bear_2, X_test_bear_2, y_train_bear_2, y_test_bear_2)\n",
    "clf_svc_bear_2, pred_svc_bear_2 = svc(X_train_bear_2, X_test_bear_2, y_train_bear_2, y_test_bear_2)\n",
    "clf_gnb_bear_2, pred_gnb_bear_2 = gnb(X_train_bear_2, X_test_bear_2, y_train_bear_2, y_test_bear_2)"
   ]
  },
  {
   "cell_type": "markdown",
   "id": "encouraging-redhead",
   "metadata": {},
   "source": [
    "## TRANSFORMER"
   ]
  },
  {
   "cell_type": "code",
   "execution_count": null,
   "id": "eligible-thread",
   "metadata": {
    "ExecuteTime": {
     "end_time": "2021-03-26T15:21:16.280110Z",
     "start_time": "2021-03-26T15:20:48.578Z"
    }
   },
   "outputs": [],
   "source": [
    "transformer_train_2 = transformer_train[['Turbine_ID', 'Date','TTF', 'Failure', 'HVTrafo_Phase1_Temp_Avg', \n",
    "                                        'HVTrafo_Phase2_Temp_Avg', 'HVTrafo_Phase3_Temp_Avg', 'HVTrafo_Phase1_Temp_Avg_av',\n",
    "                                        'HVTrafo_Phase2_Temp_Avg_av', 'HVTrafo_Phase3_Temp_Avg_av', 'HVTrafo_Phase1_Temp_Avg_sd', \n",
    "                                        'HVTrafo_Phase2_Temp_Avg_sd', 'HVTrafo_Phase3_Temp_Avg_sd']]\n",
    "transformer_test_2 = transformer_test[['Turbine_ID', 'Date','TTF', 'Failure', 'HVTrafo_Phase1_Temp_Avg', \n",
    "                                        'HVTrafo_Phase2_Temp_Avg', 'HVTrafo_Phase3_Temp_Avg', 'HVTrafo_Phase1_Temp_Avg_av',\n",
    "                                        'HVTrafo_Phase2_Temp_Avg_av', 'HVTrafo_Phase3_Temp_Avg_av', 'HVTrafo_Phase1_Temp_Avg_sd', \n",
    "                                        'HVTrafo_Phase2_Temp_Avg_sd', 'HVTrafo_Phase3_Temp_Avg_sd']]"
   ]
  },
  {
   "cell_type": "code",
   "execution_count": null,
   "id": "ethical-dividend",
   "metadata": {
    "ExecuteTime": {
     "end_time": "2021-03-26T15:21:16.282312Z",
     "start_time": "2021-03-26T15:20:48.581Z"
    }
   },
   "outputs": [],
   "source": [
    "# Scale\n",
    "#X_train_transf_2, X_test_transf_2 = scale(transformer_train_2, transformer_test_2)\n",
    "X_train_transf_2 = transformer_train_2.drop(columns=['Turbine_ID', 'Date','TTF', 'Failure']) #Not scale - maybe it finds abnormal behaviour\n",
    "X_test_transf_2 = transformer_test_2.drop(columns=['Turbine_ID', 'Date','TTF', 'Failure']) #Not scale - maybe it finds abnormal behaviour"
   ]
  },
  {
   "cell_type": "code",
   "execution_count": null,
   "id": "chemical-circle",
   "metadata": {
    "ExecuteTime": {
     "end_time": "2021-03-26T15:21:16.283831Z",
     "start_time": "2021-03-26T15:20:48.583Z"
    }
   },
   "outputs": [],
   "source": [
    "# Define target and Data Augmentation on training data\n",
    "y_train_transf_2 = transformer_train['Failure']\n",
    "y_test_transf_2 = transformer_test['Failure']\n",
    "X_train_transf_2, y_train_transf_2 = data_aug(X_train_transf_2, y_train_transf_2)"
   ]
  },
  {
   "cell_type": "code",
   "execution_count": null,
   "id": "variable-gross",
   "metadata": {
    "ExecuteTime": {
     "end_time": "2021-03-26T15:21:16.286519Z",
     "start_time": "2021-03-26T15:20:48.587Z"
    }
   },
   "outputs": [],
   "source": [
    "clf_logreg_transf_2, pred_logreg_transf_2 = logreg(X_train_transf_2, X_test_transf_2, y_train_transf_2, y_test_transf_2)\n",
    "clf_rfc_transf_2, pred_rfc_transf_2 = rfc(X_train_transf_2, X_test_transf_2, y_train_transf_2, y_test_transf_2)\n",
    "clf_gbc_transf_2, pred_gbc_transf_2 = gbc(X_train_transf_2, X_test_transf_2, y_train_transf_2, y_test_transf_2)\n",
    "clf_knn_transf_2, pred_knn_transf_2 = knn(X_train_transf_2, X_test_transf_2, y_train_transf_2, y_test_transf_2)\n",
    "clf_abc_transf_2, pred_abc_transf_2 = abc(X_train_transf_2, X_test_transf_2, y_train_transf_2, y_test_transf_2)\n",
    "clf_svc_transf_2, pred_svc_transf_2 = svc(X_train_transf_2, X_test_transf_2, y_train_transf_2, y_test_transf_2)\n",
    "clf_gnb_transf_2, pred_gnb_transf_2 = gnb(X_train_transf_2, X_test_transf_2, y_train_transf_2, y_test_transf_2)"
   ]
  },
  {
   "cell_type": "markdown",
   "id": "herbal-innocent",
   "metadata": {},
   "source": [
    "## HYDRAULIC"
   ]
  },
  {
   "cell_type": "code",
   "execution_count": null,
   "id": "cardiovascular-clinic",
   "metadata": {
    "ExecuteTime": {
     "end_time": "2021-03-26T15:21:16.288885Z",
     "start_time": "2021-03-26T15:20:48.590Z"
    }
   },
   "outputs": [],
   "source": [
    "hydraulic_train_2 = hydraulic_train[['Turbine_ID', 'Date','TTF', 'Failure', 'Hyd_Oil_Temp_Avg', 'Hyd_Oil_Temp_Avg_av',\n",
    "                                     'Hyd_Oil_Temp_Avg_sd']]\n",
    "hydraulic_test_2 = hydraulic_test[['Turbine_ID', 'Date','TTF', 'Failure', 'Hyd_Oil_Temp_Avg', 'Hyd_Oil_Temp_Avg_av',\n",
    "                                   'Hyd_Oil_Temp_Avg_sd']]"
   ]
  },
  {
   "cell_type": "code",
   "execution_count": null,
   "id": "continued-idaho",
   "metadata": {
    "ExecuteTime": {
     "end_time": "2021-03-26T15:21:16.291731Z",
     "start_time": "2021-03-26T15:20:48.592Z"
    }
   },
   "outputs": [],
   "source": [
    "# Scale\n",
    "X_train_hyd_2, X_test_hyd_2 = scale(hydraulic_train_2, hydraulic_test_2)\n",
    "# X_train_hyd_2 = hydraulic_train_2.drop(columns=['Turbine_ID', 'Date','TTF', 'Failure']) #Not scale - maybe it finds abnormal behaviour\n",
    "# X_test_hyd_2 = hydraulic_test_2.drop(columns=['Turbine_ID', 'Date','TTF', 'Failure']) #Not scale - maybe it finds abnormal behaviour"
   ]
  },
  {
   "cell_type": "code",
   "execution_count": null,
   "id": "eleven-ecology",
   "metadata": {
    "ExecuteTime": {
     "end_time": "2021-03-26T15:21:16.292998Z",
     "start_time": "2021-03-26T15:20:48.594Z"
    }
   },
   "outputs": [],
   "source": [
    "# Define target and Data Augmentation on training data\n",
    "y_train_hyd_2 = hydraulic_train['Failure']\n",
    "y_test_hyd_2 = hydraulic_test['Failure']\n",
    "X_train_hyd_2, y_train_hyd_2 = data_aug(X_train_hyd_2, y_train_hyd_2)"
   ]
  },
  {
   "cell_type": "code",
   "execution_count": null,
   "id": "brazilian-burke",
   "metadata": {
    "ExecuteTime": {
     "end_time": "2021-03-26T15:21:16.294054Z",
     "start_time": "2021-03-26T15:20:48.597Z"
    }
   },
   "outputs": [],
   "source": [
    "clf_logreg_hyd_2, pred_logreg_hyd_2 = logreg(X_train_hyd_2, X_test_hyd_2, y_train_hyd_2, y_test_hyd_2)\n",
    "clf_rfc_hyd_2, pred_rfc_hyd_2 = rfc(X_train_hyd_2, X_test_hyd_2, y_train_hyd_2, y_test_hyd_2)\n",
    "clf_gbc_hyd_2, pred_gbc_hyd_2 = gbc(X_train_hyd_2, X_test_hyd_2, y_train_hyd_2, y_test_hyd_2)\n",
    "clf_knn_hyd_2, pred_knn_hyd_2 = knn(X_train_hyd_2, X_test_hyd_2, y_train_hyd_2, y_test_hyd_2)\n",
    "clf_abc_hyd_2, pred_abc_hyd_2 = abc(X_train_hyd_2, X_test_hyd_2, y_train_hyd_2, y_test_hyd_2)\n",
    "clf_svc_hyd_2, pred_svc_hyd_2 = svc(X_train_hyd_2, X_test_hyd_2, y_train_hyd_2, y_test_hyd_2)\n",
    "clf_gnb_hyd_2, pred_gnb_hyd_2 = gnb(X_train_hyd_2, X_test_hyd_2, y_train_hyd_2, y_test_hyd_2)"
   ]
  },
  {
   "cell_type": "markdown",
   "id": "premium-philip",
   "metadata": {},
   "source": [
    "## GEARBOX"
   ]
  },
  {
   "cell_type": "code",
   "execution_count": null,
   "id": "built-control",
   "metadata": {
    "ExecuteTime": {
     "end_time": "2021-03-26T15:21:16.295588Z",
     "start_time": "2021-03-26T15:20:48.600Z"
    }
   },
   "outputs": [],
   "source": [
    "gearbox_train_2 = gearbox_train[['Turbine_ID', 'Date','TTF', 'Failure', 'Gear_Oil_Temp_Avg', 'Gear_Bear_Temp_Avg',\n",
    "                                'Gear_Oil_Temp_Avg_av', 'Gear_Bear_Temp_Avg_av', 'Gear_Oil_Temp_Avg_sd', 'Gear_Bear_Temp_Avg_sd']]\n",
    "gearbox_test_2 = gearbox_test[['Turbine_ID', 'Date','TTF', 'Failure', 'Gear_Oil_Temp_Avg', 'Gear_Bear_Temp_Avg',\n",
    "                                'Gear_Oil_Temp_Avg_av', 'Gear_Bear_Temp_Avg_av', 'Gear_Oil_Temp_Avg_sd', 'Gear_Bear_Temp_Avg_sd']]"
   ]
  },
  {
   "cell_type": "code",
   "execution_count": null,
   "id": "signal-pocket",
   "metadata": {
    "ExecuteTime": {
     "end_time": "2021-03-26T15:21:16.297253Z",
     "start_time": "2021-03-26T15:20:48.603Z"
    }
   },
   "outputs": [],
   "source": [
    "# Scale\n",
    "X_train_gear_2, X_test_gear_2 = scale(gearbox_train_2, gearbox_test_2)\n",
    "# X_train_gear_2 = gearbox_train_2.drop(columns=['Turbine_ID', 'Date','TTF', 'Failure']) #Not scale - maybe it finds abnormal behaviour\n",
    "# X_test_gear_2 = gearbox_test_2.drop(columns=['Turbine_ID', 'Date','TTF', 'Failure']) #Not scale - maybe it finds abnormal behaviour"
   ]
  },
  {
   "cell_type": "code",
   "execution_count": null,
   "id": "amazing-workplace",
   "metadata": {
    "ExecuteTime": {
     "end_time": "2021-03-26T15:21:16.302057Z",
     "start_time": "2021-03-26T15:20:48.605Z"
    }
   },
   "outputs": [],
   "source": [
    "# Define target and Data Augmentation on training data\n",
    "y_train_gear_2 = gearbox_train['Failure']\n",
    "y_test_gear_2 = gearbox_test['Failure']\n",
    "X_train_gear_2, y_train_gear_2 = data_aug(X_train_gear_2, y_train_gear_2)"
   ]
  },
  {
   "cell_type": "code",
   "execution_count": null,
   "id": "exciting-board",
   "metadata": {
    "ExecuteTime": {
     "end_time": "2021-03-26T15:21:16.304151Z",
     "start_time": "2021-03-26T15:20:48.608Z"
    }
   },
   "outputs": [],
   "source": [
    "clf_logreg_gear_2, pred_logreg_gear_2 = logreg(X_train_gear_2, X_test_gear_2, y_train_gear_2, y_test_gear_2)\n",
    "clf_rfc_gear_2, pred_rfc_gear_2 = rfc(X_train_gear_2, X_test_gear_2, y_train_gear_2, y_test_gear_2)\n",
    "clf_gbc_gear_2, pred_gbc_gear_2 = gbc(X_train_gear_2, X_test_gear_2, y_train_gear_2, y_test_gear_2)\n",
    "clf_knn_gear_2, pred_knn_gear_2 = knn(X_train_gear_2, X_test_gear_2, y_train_gear_2, y_test_gear_2)\n",
    "clf_abc_gear_2, pred_abc_gear_2 = abc(X_train_gear_2, X_test_gear_2, y_train_gear_2, y_test_gear_2)\n",
    "clf_svc_gear_2, pred_svc_gear_2 = svc(X_train_gear_2, X_test_gear_2, y_train_gear_2, y_test_gear_2)\n",
    "clf_gnb_gear_2, pred_gnb_gear_2 = gnb(X_train_gear_2, X_test_gear_2, y_train_gear_2, y_test_gear_2)"
   ]
  },
  {
   "cell_type": "markdown",
   "id": "addressed-wisconsin",
   "metadata": {},
   "source": [
    "## NOTE:\n",
    "\n",
    "- From now on we will choose the final models. We could fine tune the models in very different ways like different period for rolling aggreggates, more feature engineering (peaks, min, max, median, nº of outliers, etc), different model parameters, new models, different features, retrieve more data, etc. We could also test regression models (ttf)\n",
    "- Since this is a first project and we want to proceed to different stages, just for the purpose of learning, We will just define a threshold to decrease the number of the FP and calculate our costs savings\n",
    "- We do not have a validation set to validate if the models generalize well\n",
    "- Deploy into production"
   ]
  },
  {
   "cell_type": "code",
   "execution_count": null,
   "id": "taken-laptop",
   "metadata": {
    "ExecuteTime": {
     "end_time": "2021-03-26T15:21:16.307150Z",
     "start_time": "2021-03-26T15:20:48.611Z"
    }
   },
   "outputs": [],
   "source": [
    "df_costs"
   ]
  },
  {
   "cell_type": "markdown",
   "id": "painful-notice",
   "metadata": {},
   "source": [
    "#### Thresholds\n",
    "- We will change the default threshold (0.5), according to the business perspective"
   ]
  },
  {
   "cell_type": "code",
   "execution_count": null,
   "id": "hourly-opera",
   "metadata": {
    "ExecuteTime": {
     "end_time": "2021-03-26T15:21:16.309064Z",
     "start_time": "2021-03-26T15:20:48.614Z"
    }
   },
   "outputs": [],
   "source": [
    "# Generator\n",
    "plt.figure(figsize=(15,5)) \n",
    "plt.subplot(1, 3, 1)\n",
    "sns.boxplot(x=y_test_gen, y=pred_gbc_gen['y_score'])\n",
    "plt.title('pred_gbc_gen')\n",
    "plt.subplot(1, 3, 2)\n",
    "sns.boxplot(x=y_test_gen_2, y=pred_rfc_gen_2['y_score'])\n",
    "plt.title('pred_rfc_gen_2')\n",
    "plt.subplot(1, 3, 3)\n",
    "sns.boxplot(x=y_test_gen_2, y=pred_gbc_gen_2['y_score'])\n",
    "plt.title('pred_gbc_gen_2')\n"
   ]
  },
  {
   "cell_type": "code",
   "execution_count": null,
   "id": "gothic-expense",
   "metadata": {
    "ExecuteTime": {
     "end_time": "2021-03-26T15:21:16.310479Z",
     "start_time": "2021-03-26T15:20:48.616Z"
    }
   },
   "outputs": [],
   "source": [
    "# Generator Bearing\n",
    "plt.figure(figsize=(7,5)) \n",
    "sns.boxplot(x=y_test_bear, y=pred_abc_bear['y_score'])\n",
    "plt.title('pred_abc_bear')"
   ]
  },
  {
   "cell_type": "code",
   "execution_count": null,
   "id": "vanilla-signature",
   "metadata": {
    "ExecuteTime": {
     "end_time": "2021-03-26T15:21:16.311497Z",
     "start_time": "2021-03-26T15:20:48.619Z"
    }
   },
   "outputs": [],
   "source": [
    "# Transformer\n",
    "plt.figure(figsize=(15,10)) \n",
    "plt.subplot(2, 2, 1)\n",
    "sns.boxplot(x=y_test_transf, y=pred_gnb_transf['y_score'])\n",
    "plt.title('pred_gnb_transf')\n",
    "plt.subplot(2, 2, 2)\n",
    "sns.boxplot(x=y_test_transf_2, y=pred_gbc_transf_2['y_score'])\n",
    "plt.title('pred_gbc_transf_2')\n",
    "plt.subplot(2, 2, 3)\n",
    "sns.boxplot(x=y_test_transf_2, y=pred_knn_transf_2['y_score'])\n",
    "plt.title('pred_knn_transf_2')\n",
    "plt.subplot(2, 2, 4)\n",
    "sns.boxplot(x=y_test_transf_2, y=pred_abc_transf_2['y_score'])\n",
    "plt.title('pred_abc_transf_2')"
   ]
  },
  {
   "cell_type": "code",
   "execution_count": null,
   "id": "detected-indonesian",
   "metadata": {
    "ExecuteTime": {
     "end_time": "2021-03-26T15:21:16.312546Z",
     "start_time": "2021-03-26T15:20:48.621Z"
    }
   },
   "outputs": [],
   "source": [
    "# Hydraulic\n",
    "plt.figure(figsize=(15,5)) \n",
    "plt.subplot(1, 2, 1)\n",
    "sns.boxplot(x=y_test_hyd, y=pred_logreg_hyd['y_score'])\n",
    "plt.title('pred_logreg_hyd')\n",
    "plt.subplot(1, 2, 2)\n",
    "sns.boxplot(x=y_test_hyd, y=pred_gbc_hyd['y_score'])\n",
    "plt.title('pred_gbc_hyd')"
   ]
  },
  {
   "cell_type": "code",
   "execution_count": null,
   "id": "legislative-services",
   "metadata": {
    "ExecuteTime": {
     "end_time": "2021-03-26T15:21:16.313405Z",
     "start_time": "2021-03-26T15:20:48.623Z"
    }
   },
   "outputs": [],
   "source": [
    "# Gearbox\n",
    "plt.figure(figsize=(15,5)) \n",
    "plt.subplot(1, 3, 1)\n",
    "sns.boxplot(x=y_test_gear_2, y=pred_abc_gear_2['y_score'])\n",
    "plt.title('pred_abc_gear_2')\n",
    "plt.subplot(1, 3, 2)\n",
    "sns.boxplot(x=y_test_gear_2, y=pred_knn_gear_2['y_score'])\n",
    "plt.title('pred_knn_gear_2')\n",
    "plt.subplot(1, 3, 3)\n",
    "sns.boxplot(x=y_test_gear_2, y=pred_gnb_gear_2['y_score'])\n",
    "plt.title('pred_gnb_gear_2')"
   ]
  },
  {
   "cell_type": "markdown",
   "id": "artistic-american",
   "metadata": {},
   "source": [
    "#### From a business prespective, we will assume that we send a technical repair employee only with 20 days interval. So, if our model predicts a failure in day 1 and day 15, the employee will only go 1 time to run diagnosis/repair on the turbine"
   ]
  },
  {
   "cell_type": "code",
   "execution_count": null,
   "id": "intense-queensland",
   "metadata": {},
   "outputs": [],
   "source": []
  }
 ],
 "metadata": {
  "kernelspec": {
   "display_name": "Python 3",
   "language": "python",
   "name": "python3"
  },
  "language_info": {
   "codemirror_mode": {
    "name": "ipython",
    "version": 3
   },
   "file_extension": ".py",
   "mimetype": "text/x-python",
   "name": "python",
   "nbconvert_exporter": "python",
   "pygments_lexer": "ipython3",
   "version": "3.7.2"
  }
 },
 "nbformat": 4,
 "nbformat_minor": 5
}
