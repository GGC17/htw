{
 "cells": [
  {
   "cell_type": "code",
   "execution_count": 1,
   "id": "indirect-amsterdam",
   "metadata": {
    "ExecuteTime": {
     "end_time": "2021-03-18T18:08:13.485780Z",
     "start_time": "2021-03-18T18:08:12.742232Z"
    }
   },
   "outputs": [],
   "source": [
    "import pandas as pd\n",
    "import numpy as np\n",
    "from sklearn.preprocessing import StandardScaler, MinMaxScaler\n",
    "from imblearn.over_sampling import SMOTE\n",
    "from sklearn.linear_model import LogisticRegression\n",
    "from sklearn.ensemble import GradientBoostingClassifier, RandomForestClassifier\n",
    "from sklearn.svm import SVC, LinearSVC\n",
    "from sklearn.neighbors import KNeighborsClassifier\n",
    "from sklearn.ensemble import AdaBoostClassifier\n",
    "from xgboost import XGBClassifier\n",
    "from sklearn.metrics import confusion_matrix, plot_roc_curve, classification_report\n",
    "from sklearn import model_selection"
   ]
  },
  {
   "cell_type": "code",
   "execution_count": 2,
   "id": "neither-minister",
   "metadata": {
    "ExecuteTime": {
     "end_time": "2021-03-18T18:08:13.741163Z",
     "start_time": "2021-03-18T18:08:13.488556Z"
    }
   },
   "outputs": [],
   "source": [
    "#Load Dataframes of the different component\n",
    "rooth_path = '../data/'\n",
    "generator_train = pd.read_csv(rooth_path + 'generator_train.csv')\n",
    "gen_bear_train = pd.read_csv(rooth_path + 'gen_bear_train.csv')\n",
    "transformer_train = pd.read_csv(rooth_path + 'transformer_train.csv')\n",
    "hydraulic_train = pd.read_csv(rooth_path + 'hydraulic_train.csv')\n",
    "gearbox_train = pd.read_csv(rooth_path + 'gearbox_train.csv')\n",
    "generator_test = pd.read_csv(rooth_path + 'generator_test.csv')\n",
    "gen_bear_test = pd.read_csv(rooth_path + 'gen_bear_test.csv')\n",
    "transformer_test = pd.read_csv(rooth_path + 'transformer_test.csv')\n",
    "hydraulic_test = pd.read_csv(rooth_path + 'hydraulic_test.csv')\n",
    "gearbox_test = pd.read_csv(rooth_path + 'gearbox_test.csv')"
   ]
  },
  {
   "cell_type": "markdown",
   "id": "compound-dollar",
   "metadata": {
    "ExecuteTime": {
     "end_time": "2021-03-14T19:40:41.747585Z",
     "start_time": "2021-03-14T19:40:41.722549Z"
    }
   },
   "source": [
    "### We are ready to build our base-model for each component. \n",
    "\n",
    "- We will need to scale the features, within each turbine\n",
    "- Since we have a very unbalanced dataset we will use SMOTE for balancing the training data set\n",
    "- Reach a base line model\n",
    "- Try other algorithms and fine tune\n",
    "- Probably we will need to change the threshold to reduce the FP\n",
    "- Calculate the different costs of our best models"
   ]
  },
  {
   "cell_type": "code",
   "execution_count": 3,
   "id": "swiss-rendering",
   "metadata": {
    "ExecuteTime": {
     "end_time": "2021-03-18T18:08:13.754081Z",
     "start_time": "2021-03-18T18:08:13.744367Z"
    }
   },
   "outputs": [],
   "source": [
    "# Scale within each turbine\n",
    "def scale (df_train, df_test, scaler='StandardScaler'):\n",
    "    \n",
    "    '''Scale within each given turbine\n",
    "    \n",
    "    Args:\n",
    "            df_train      : Train datarame\n",
    "            df_test       : Test dataframe\n",
    "        \n",
    "    Returns:\n",
    "            array         : Scaled array of train and test'''\n",
    "    \n",
    "    \n",
    "    # Scale for turbine T01 first\n",
    "    X_train1 = df_train.loc[df_train['Turbine_ID']=='T01']\n",
    "    X_test1 = df_test.loc[df_test['Turbine_ID']=='T01']\n",
    "\n",
    "    X_train1 = X_train1.drop(columns=['Turbine_ID', 'Date', 'TTF', 'Failure'])\n",
    "    X_test1 = X_test1.drop(columns=['Turbine_ID', 'Date', 'TTF', 'Failure'])\n",
    "    \n",
    "    if scaler == 'MinMaxScaler':\n",
    "        sc = MinMaxScaler()\n",
    "        X_train1 = sc.fit_transform(X_train1)\n",
    "        X_test1 = sc.transform(X_test1) \n",
    "    else:\n",
    "        sc = StandardScaler()\n",
    "        X_train1 = sc.fit_transform(X_train1)\n",
    "        X_test1 = sc.transform(X_test1) \n",
    "    \n",
    "    # Scale on other turbines\n",
    "    turbines = ['T06', 'T07', 'T09', 'T11']\n",
    "    for turbine in turbines:\n",
    "        X_train_ = df_train.loc[df_train['Turbine_ID']==turbine]\n",
    "        X_test_ = df_test.loc[df_test['Turbine_ID']==turbine]\n",
    "\n",
    "        X_train_ = X_train_.drop(columns=['Turbine_ID', 'Date', 'TTF', 'Failure'])\n",
    "        X_test_ = X_test_.drop(columns=['Turbine_ID', 'Date', 'TTF', 'Failure'])\n",
    "\n",
    "        if scaler == 'MinMaxScaler':\n",
    "            sc = MinMaxScaler()\n",
    "            X_train_ = sc.fit_transform(X_train_)\n",
    "            X_test_ = sc.transform(X_test_)\n",
    "        else:\n",
    "            sc = StandardScaler()\n",
    "            X_train_ = sc.fit_transform(X_train_)\n",
    "            X_test_ = sc.transform(X_test_)\n",
    "        \n",
    "        # Concatenate\n",
    "        X_train1 = np.concatenate((X_train1, X_train_))\n",
    "        X_test1 = np.concatenate((X_test1, X_test_))\n",
    "        \n",
    "             \n",
    "    return X_train1, X_test1"
   ]
  },
  {
   "cell_type": "code",
   "execution_count": 4,
   "id": "tropical-prototype",
   "metadata": {
    "ExecuteTime": {
     "end_time": "2021-03-18T18:08:13.780367Z",
     "start_time": "2021-03-18T18:08:13.758832Z"
    }
   },
   "outputs": [],
   "source": [
    "# Data augmentation using SMOTE\n",
    "def data_aug(X_train, y_train):\n",
    "    \n",
    "    '''Function for data augmentation, using SMOTE\n",
    "    \n",
    "    \n",
    "    '''\n",
    "    over = SMOTE(random_state=0)\n",
    "    \n",
    "    X_train_over, y_train_over = over.fit_sample(X_train, y_train)\n",
    "    \n",
    "    \n",
    "    return X_train_over, y_train_over"
   ]
  },
  {
   "cell_type": "code",
   "execution_count": 5,
   "id": "simplified-invitation",
   "metadata": {
    "ExecuteTime": {
     "end_time": "2021-03-18T18:08:13.793933Z",
     "start_time": "2021-03-18T18:08:13.782617Z"
    }
   },
   "outputs": [],
   "source": [
    "# Function to predict\n",
    "def bin_classify(model, clf, X_train, X_test, y_train, y_test, params=None, score=None, ):\n",
    "    \n",
    "    #Grid Search\n",
    "    grid_search = model_selection.GridSearchCV(estimator=clf, param_grid=params, cv=5, scoring=score, n_jobs=-1)\n",
    "\n",
    "    grid_search.fit(X_train, y_train)\n",
    "    train_pred = grid_search.predict(X_train)\n",
    "    y_pred = grid_search.predict(X_test)\n",
    "    \n",
    "    if hasattr(grid_search, 'predict_proba'):   \n",
    "        y_score = grid_search.predict_proba(X_test)[:,1]\n",
    "    elif hasattr(grid_search, 'decision_function'):\n",
    "        y_score = grid_search.decision_function(X_test)\n",
    "    else:\n",
    "        y_score = y_pred\n",
    "    \n",
    "    #Predictions\n",
    "    predictions = {'y_pred' : y_pred, 'y_score' : y_score}\n",
    "    df_predictions = pd.DataFrame.from_dict(predictions)\n",
    "    \n",
    "    return grid_search.best_estimator_, df_predictions"
   ]
  },
  {
   "cell_type": "code",
   "execution_count": 6,
   "id": "unlike-skill",
   "metadata": {
    "ExecuteTime": {
     "end_time": "2021-03-18T18:08:13.805763Z",
     "start_time": "2021-03-18T18:08:13.796666Z"
    }
   },
   "outputs": [],
   "source": [
    "# Function for metrics\n",
    "def metrics(estimator, X_test, y_test, y_pred, label):\n",
    "    \n",
    "    # Classification Report\n",
    "    print(classification_report(y_test, y_pred))\n",
    "    # Confusion MAtrix\n",
    "    print(confusion_matrix(y_test, y_pred))\n",
    "    #Plot Roc\n",
    "    plot_roc_curve(estimator, X_test, y_test, name = f'{estimator} {label}')"
   ]
  },
  {
   "cell_type": "code",
   "execution_count": 7,
   "id": "attempted-paintball",
   "metadata": {
    "ExecuteTime": {
     "end_time": "2021-03-18T18:08:13.815648Z",
     "start_time": "2021-03-18T18:08:13.808940Z"
    }
   },
   "outputs": [],
   "source": [
    "# Logistic Regression\n",
    "def logreg(X_train, X_test, y_train, y_test, label):\n",
    "    model = 'Logistic Regression'\n",
    "    clf_logreg = LogisticRegression(random_state=42, max_iter=3000, n_jobs=-1)\n",
    "    gs_params = {'C': [.01, 0.1, 1.0, 10], 'solver': ['liblinear', 'lbfgs']}\n",
    "    gs_score = 'f1'\n",
    "\n",
    "    clf_logreg, pred_logreg = bin_classify(model, clf_logreg, X_train, X_test, y_train, y_test, params=gs_params, score=gs_score)\n",
    "    print('\\nBest Parameters:\\n',clf_logreg)\n",
    "    \n",
    "    metrics(clf_logreg, X_test, y_test, pred_logreg['y_pred'], label)\n",
    "    \n",
    "    return clf_logreg, pred_logreg"
   ]
  },
  {
   "cell_type": "code",
   "execution_count": 8,
   "id": "demographic-substance",
   "metadata": {
    "ExecuteTime": {
     "end_time": "2021-03-18T18:08:13.829155Z",
     "start_time": "2021-03-18T18:08:13.821234Z"
    }
   },
   "outputs": [],
   "source": [
    "# Random Forest Classifier\n",
    "def rfc(X_train, X_test, y_train, y_test, label):\n",
    "    model = 'Random Forest Classifier'\n",
    "    clf_rfc = RandomForestClassifier(random_state=42, n_jobs=-1)\n",
    "    gs_params = {'n_estimators': [800, 900, 1000, 1300, 1400, 1500], 'criterion': ['gini', 'entropy'], 'class_weight': ['balanced', None]}\n",
    "    gs_score = 'f1'\n",
    "\n",
    "    clf_rfc, pred_rfc = bin_classify(model, clf_rfc, X_train, X_test, y_train, y_test, params=gs_params, score=gs_score)\n",
    "    print('\\nBest Parameters:\\n',clf_rfc)\n",
    "    \n",
    "    metrics(clf_rfc, X_test, y_test, pred_rfc['y_pred'], label)\n",
    "    \n",
    "    return clf_rfc, pred_rfc"
   ]
  },
  {
   "cell_type": "code",
   "execution_count": 9,
   "id": "preceding-binding",
   "metadata": {
    "ExecuteTime": {
     "end_time": "2021-03-18T18:08:13.841835Z",
     "start_time": "2021-03-18T18:08:13.831884Z"
    }
   },
   "outputs": [],
   "source": [
    "# Gradient Boosting Classifier\n",
    "def gbc(X_train, X_test, y_train, y_test, label):\n",
    "    model = 'Gradient Boosting Classifier'\n",
    "    clf_gbc = GradientBoostingClassifier(random_state=42)\n",
    "    gs_params = {'learning_rate': [0.001, 0.01, 0.1, 0.5, 1], 'n_estimators': [100, 200, 500, 700]}\n",
    "    gs_score = 'f1'\n",
    "\n",
    "    clf_gbc, pred_gbc= bin_classify(model, clf_gbc, X_train, X_test, y_train, y_test, params=gs_params, score=gs_score)\n",
    "    print('\\nBest Parameters:\\n',clf_gbc)\n",
    "\n",
    "    metrics(clf_gbc, X_test, y_test, pred_gbc['y_pred'], label)\n",
    "    \n",
    "    return clf_gbc, pred_gbc"
   ]
  },
  {
   "cell_type": "code",
   "execution_count": 10,
   "id": "broken-negative",
   "metadata": {
    "ExecuteTime": {
     "end_time": "2021-03-18T18:08:13.849763Z",
     "start_time": "2021-03-18T18:08:13.843714Z"
    }
   },
   "outputs": [],
   "source": [
    "# K-Neighbors\n",
    "def knn(X_train, X_test, y_train, y_test, label):\n",
    "    model = 'KNN'\n",
    "    clf_knn = KNeighborsClassifier(n_jobs=-1)\n",
    "    gs_params = {'n_neighbors': [5, 7, 10, 15]}\n",
    "    gs_score = 'f1'\n",
    "\n",
    "    clf_knn, pred_knn= bin_classify(model, clf_knn, X_train, X_test, y_train, y_test, params=gs_params, score=gs_score)\n",
    "    print('\\nBest Parameters:\\n',clf_knn)\n",
    "\n",
    "    metrics(clf_knn, X_test, y_test, pred_knn['y_pred'], label)\n",
    "    \n",
    "    return clf_knn, pred_knn"
   ]
  },
  {
   "cell_type": "code",
   "execution_count": 11,
   "id": "geographic-multiple",
   "metadata": {
    "ExecuteTime": {
     "end_time": "2021-03-18T18:08:13.860083Z",
     "start_time": "2021-03-18T18:08:13.853165Z"
    }
   },
   "outputs": [],
   "source": [
    "# Ada Boost Classifier\n",
    "def abc(X_train, X_test, y_train, y_test, label):\n",
    "    model = 'AdaBoostClassifier'\n",
    "    clf_abc = AdaBoostClassifier(random_state=42)\n",
    "    gs_params = {'n_estimators': [50, 100, 200, 300, 500]}\n",
    "    gs_score = 'f1'\n",
    "\n",
    "    clf_abc, pred_abc= bin_classify(model, clf_abc, X_train, X_test, y_train, y_test, params=gs_params, score=gs_score)\n",
    "    print('\\nBest Parameters:\\n',clf_abc)\n",
    "\n",
    "    metrics(clf_abc, X_test, y_test, pred_abc['y_pred'], label)\n",
    "    \n",
    "    return clf_abc, pred_abc"
   ]
  },
  {
   "cell_type": "code",
   "execution_count": 12,
   "id": "conscious-surprise",
   "metadata": {
    "ExecuteTime": {
     "end_time": "2021-03-18T18:08:13.871882Z",
     "start_time": "2021-03-18T18:08:13.861859Z"
    }
   },
   "outputs": [],
   "source": [
    "# SVC\n",
    "def svc(X_train, X_test, y_train, y_test, label):\n",
    "    model = 'SVC'\n",
    "    clf_svc = SVC(random_state=42)\n",
    "    gs_params = {'C': [0.01, 0.1, 1, 1.2], 'kernel': ['linear', 'poly', 'rbf', 'sigmoid'], 'degree': [2,3], 'class_weight': ['balanced', None], 'gamma': ['auto', 'scale']}\n",
    "    gs_score = 'f1'\n",
    "\n",
    "    clf_svc, pred_svc= bin_classify(model, clf_svc, X_train, X_test, y_train, y_test, params=gs_params, score=gs_score)\n",
    "    print('\\nBest Parameters:\\n',clf_svc)\n",
    "\n",
    "    metrics(clf_svc, X_test, y_test, pred_svc['y_pred'], label)\n",
    "    \n",
    "    return clf_svc, pred_svc"
   ]
  },
  {
   "cell_type": "code",
   "execution_count": 13,
   "id": "personal-effects",
   "metadata": {
    "ExecuteTime": {
     "end_time": "2021-03-18T18:08:13.881000Z",
     "start_time": "2021-03-18T18:08:13.874705Z"
    }
   },
   "outputs": [],
   "source": [
    "# XGBoost\n",
    "def xgboost(X_train, X_test, y_train, y_test, label):\n",
    "    \n",
    "    model = 'XGBoost'\n",
    "    clf_xgb = XGBClassifier()\n",
    "    gs_params = {'colsample_bytree': [0.3, 0.7], 'learning_rate': [0.01, 0.1, 0.2, 0.5], 'n_estimators': [50, 100, 200, 300], 'subsample': [0.2, 0.5, 0.8], 'max_depth': [2, 3, 5]}\n",
    "    gs_score = 'f1'\n",
    "\n",
    "    clf_xgb, pred_xgb= bin_classify(model, clf_xgb, X_train, X_test, y_train, y_test, params=gs_params, score=gs_score)\n",
    "    print('\\nBest Parameters:\\n',clf_xgb)\n",
    "\n",
    "    metrics(clf_xgb, X_test, y_test, pred_xgb['y_pred'], label)\n",
    "    \n",
    "    return clf_xgb, pred_xgb"
   ]
  },
  {
   "cell_type": "markdown",
   "id": "identical-slovak",
   "metadata": {},
   "source": [
    "# GENERATOR"
   ]
  },
  {
   "cell_type": "code",
   "execution_count": 14,
   "id": "bridal-cradle",
   "metadata": {
    "ExecuteTime": {
     "end_time": "2021-03-18T18:08:13.891743Z",
     "start_time": "2021-03-18T18:08:13.883397Z"
    }
   },
   "outputs": [],
   "source": [
    "# By exploration, drop columns:\n",
    "gen_col_drop = ['Gen_RPM_Min', 'Gen_RPM_Min_av', 'Gen_RPM_Min_sd', 'Gen_RPM_Avg', 'Gen_RPM_Avg_av', 'Gen_RPM_Avg_sd',\n",
    "                'Gen_Phase1_Temp_Avg', 'Gen_Phase1_Temp_Avg_av', 'Gen_Phase1_Temp_Avg_sd',\n",
    "                'Gen_Phase3_Temp_Avg', 'Gen_Phase3_Temp_Avg_av', 'Gen_Phase3_Temp_Avg_sd',\n",
    "                'Blds_PitchAngle_Min', 'Blds_PitchAngle_Min_av', 'Blds_PitchAngle_Min_sd',\n",
    "                'Blds_PitchAngle_Avg', 'Blds_PitchAngle_Avg_av', 'Blds_PitchAngle_Avg_sd',\n",
    "                'Amb_WindSpeed_Avg', 'Amb_WindSpeed_Avg_av', 'Amb_WindSpeed_Avg_sd',\n",
    "                'Amb_WindSpeed_Std', 'Amb_WindSpeed_Std_av', 'Amb_WindSpeed_Std_sd',\n",
    "                'Cont_Hub_Temp_Avg', 'Cont_Hub_Temp_Avg_av', 'Cont_Hub_Temp_Avg_sd',\n",
    "                'Cont_Top_Temp_Avg', 'Cont_Top_Temp_Avg_av', 'Cont_Top_Temp_Avg_sd',\n",
    "                'Cont_VCP_Temp_Avg', 'Cont_VCP_Temp_Avg_av', 'Cont_VCP_Temp_Avg_sd',\n",
    "                'Nac_Temp_Avg', 'Nac_Temp_Avg_av', 'Nac_Temp_Avg_sd',\n",
    "                'Nac_Direction_Avg', 'Nac_Direction_Avg_av', 'Nac_Direction_Avg_sd',\n",
    "                'Grd_Busbar_Temp_Avg', 'Grd_Busbar_Temp_Avg_av', 'Grd_Busbar_Temp_Avg_sd']"
   ]
  },
  {
   "cell_type": "code",
   "execution_count": 15,
   "id": "impressed-fault",
   "metadata": {
    "ExecuteTime": {
     "end_time": "2021-03-18T18:08:13.905881Z",
     "start_time": "2021-03-18T18:08:13.893655Z"
    }
   },
   "outputs": [],
   "source": [
    "# Drop columns\n",
    "generator_train = generator_train.drop(columns=gen_col_drop)\n",
    "generator_test = generator_test.drop(columns=gen_col_drop)"
   ]
  },
  {
   "cell_type": "code",
   "execution_count": 20,
   "id": "statistical-surge",
   "metadata": {
    "ExecuteTime": {
     "end_time": "2021-03-18T19:27:17.683094Z",
     "start_time": "2021-03-18T19:27:17.605857Z"
    }
   },
   "outputs": [],
   "source": [
    "# Scale\n",
    "X_train_scale, X_test_scale = scale(generator_train, generator_test)\n",
    "y_train = generator_train['Failure']\n",
    "y_test = generator_test['Failure']"
   ]
  },
  {
   "cell_type": "code",
   "execution_count": null,
   "id": "complex-mitchell",
   "metadata": {},
   "outputs": [],
   "source": []
  },
  {
   "cell_type": "code",
   "execution_count": null,
   "id": "polar-destiny",
   "metadata": {},
   "outputs": [],
   "source": []
  },
  {
   "cell_type": "code",
   "execution_count": null,
   "id": "composite-blair",
   "metadata": {},
   "outputs": [],
   "source": []
  },
  {
   "cell_type": "code",
   "execution_count": 16,
   "id": "deadly-antenna",
   "metadata": {
    "ExecuteTime": {
     "end_time": "2021-03-18T18:08:13.913154Z",
     "start_time": "2021-03-18T18:08:13.908504Z"
    }
   },
   "outputs": [],
   "source": [
    "pred_logreg_gen = {}\n",
    "pred_rfc_gen = {}\n",
    "pred_gbc_gen = {}\n",
    "pred_knn_gen = {}\n",
    "pred_abc_gen = {}\n",
    "pred_svc_gen = {}\n",
    "pred_xgb_gen = {}"
   ]
  },
  {
   "cell_type": "code",
   "execution_count": null,
   "id": "printable-bunny",
   "metadata": {},
   "outputs": [],
   "source": []
  },
  {
   "cell_type": "code",
   "execution_count": null,
   "id": "corresponding-little",
   "metadata": {},
   "outputs": [],
   "source": []
  },
  {
   "cell_type": "code",
   "execution_count": null,
   "id": "active-fleet",
   "metadata": {},
   "outputs": [],
   "source": []
  },
  {
   "cell_type": "code",
   "execution_count": null,
   "id": "essential-linux",
   "metadata": {},
   "outputs": [],
   "source": []
  },
  {
   "cell_type": "code",
   "execution_count": null,
   "id": "rental-fifteen",
   "metadata": {},
   "outputs": [],
   "source": []
  },
  {
   "cell_type": "code",
   "execution_count": null,
   "id": "polyphonic-tobacco",
   "metadata": {},
   "outputs": [],
   "source": []
  },
  {
   "cell_type": "code",
   "execution_count": null,
   "id": "documented-quality",
   "metadata": {},
   "outputs": [],
   "source": []
  },
  {
   "cell_type": "code",
   "execution_count": null,
   "id": "interstate-future",
   "metadata": {},
   "outputs": [],
   "source": []
  },
  {
   "cell_type": "code",
   "execution_count": null,
   "id": "alternate-freeware",
   "metadata": {},
   "outputs": [],
   "source": []
  },
  {
   "cell_type": "code",
   "execution_count": null,
   "id": "automatic-edwards",
   "metadata": {},
   "outputs": [],
   "source": []
  }
 ],
 "metadata": {
  "kernelspec": {
   "display_name": "Python 3",
   "language": "python",
   "name": "python3"
  },
  "language_info": {
   "codemirror_mode": {
    "name": "ipython",
    "version": 3
   },
   "file_extension": ".py",
   "mimetype": "text/x-python",
   "name": "python",
   "nbconvert_exporter": "python",
   "pygments_lexer": "ipython3",
   "version": "3.7.2"
  }
 },
 "nbformat": 4,
 "nbformat_minor": 5
}
