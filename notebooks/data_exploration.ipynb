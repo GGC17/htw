{
 "cells": [
  {
   "cell_type": "code",
   "execution_count": 2,
   "id": "harmful-memphis",
   "metadata": {
    "ExecuteTime": {
     "end_time": "2021-03-10T16:50:35.203635Z",
     "start_time": "2021-03-10T16:50:34.539764Z"
    }
   },
   "outputs": [],
   "source": [
    "import numpy as np\n",
    "import pandas as pd\n",
    "import matplotlib.pyplot as plt\n",
    "import seaborn as sns"
   ]
  },
  {
   "cell_type": "code",
   "execution_count": 4,
   "id": "velvet-glucose",
   "metadata": {
    "ExecuteTime": {
     "end_time": "2021-03-10T16:58:29.773705Z",
     "start_time": "2021-03-10T16:58:29.432096Z"
    }
   },
   "outputs": [],
   "source": [
    "rooth_path = '../data/'\n",
    "generator_train = pd.read_csv(rooth_path + 'generator_train.csv')\n",
    "gen_bear_train = pd.read_csv(rooth_path + 'gen_bear_train.csv')\n",
    "transformer_train = pd.read_csv(rooth_path + 'transformer_train.csv')\n",
    "hydraulic_train = pd.read_csv(rooth_path + 'hydraulic_train.csv')\n",
    "gearbox_train = pd.read_csv(rooth_path + 'gearbox_train.csv')\n",
    "logs_df = pd.read_csv(rooth_path + 'training/' + 'wind-farm-1-logs-training.csv')"
   ]
  },
  {
   "cell_type": "markdown",
   "id": "detailed-antibody",
   "metadata": {},
   "source": [
    "#### Do some exploration data analysis\n",
    "\n",
    "- Let's start with the logs df to see if we can find any correlation for the abnormal behaviour of the turbines (maybe we can add it to the actual datasets)\n",
    "- Then let's explore each of the components dataframes"
   ]
  },
  {
   "cell_type": "markdown",
   "id": "promising-hebrew",
   "metadata": {},
   "source": [
    "### Logs"
   ]
  },
  {
   "cell_type": "code",
   "execution_count": null,
   "id": "closing-freedom",
   "metadata": {},
   "outputs": [],
   "source": []
  },
  {
   "cell_type": "code",
   "execution_count": null,
   "id": "enormous-witch",
   "metadata": {},
   "outputs": [],
   "source": [
    "# We can't know which logs are error logs or normal behaviour logs\n",
    "# See if there are more logs before the failures\n",
    "temp = logs_df.groupby(by=['UnitTitle', 'Date']).count().reset_index()\n",
    "for turbine in turbines:\n",
    "    plt.figure(figsize=(20,5)) \n",
    "    temp_ = temp[temp['UnitTitle']==turbine]\n",
    "    failures_df_ = failures_df[failures_df['Turbine_ID']==turbine]\n",
    "    plt.plot(temp_['Date'], temp_['Remark'])\n",
    "    plt.vlines(x=failures_df_['Timestamp'], color='red', linestyle= '--', ymin=0, ymax=max(temp_['Remark']))\n",
    "    plt.title(turbine)\n",
    "    plt.xlabel(\"Date\")\n",
    "    plt.ylabel(\"Number Logs\")\n",
    "    plt.show()"
   ]
  },
  {
   "cell_type": "markdown",
   "id": "willing-morgan",
   "metadata": {},
   "source": [
    "### We can't really see a clear correlation between the increasing number of logs before failure. It should be interesting to know what logs are error logs, but we don't have an expert nearby"
   ]
  },
  {
   "cell_type": "code",
   "execution_count": null,
   "id": "developmental-knock",
   "metadata": {},
   "outputs": [],
   "source": []
  }
 ],
 "metadata": {
  "kernelspec": {
   "display_name": "Python 3",
   "language": "python",
   "name": "python3"
  },
  "language_info": {
   "codemirror_mode": {
    "name": "ipython",
    "version": 3
   },
   "file_extension": ".py",
   "mimetype": "text/x-python",
   "name": "python",
   "nbconvert_exporter": "python",
   "pygments_lexer": "ipython3",
   "version": "3.7.2"
  }
 },
 "nbformat": 4,
 "nbformat_minor": 5
}
