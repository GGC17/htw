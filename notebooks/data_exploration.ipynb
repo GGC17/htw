{
 "cells": [
  {
   "cell_type": "code",
   "execution_count": null,
   "id": "harmful-memphis",
   "metadata": {},
   "outputs": [],
   "source": []
  },
  {
   "cell_type": "code",
   "execution_count": null,
   "id": "velvet-glucose",
   "metadata": {},
   "outputs": [],
   "source": []
  },
  {
   "cell_type": "code",
   "execution_count": null,
   "id": "collectible-lawsuit",
   "metadata": {},
   "outputs": [],
   "source": []
  },
  {
   "cell_type": "code",
   "execution_count": null,
   "id": "demanding-sunday",
   "metadata": {},
   "outputs": [],
   "source": []
  },
  {
   "cell_type": "code",
   "execution_count": null,
   "id": "enormous-witch",
   "metadata": {},
   "outputs": [],
   "source": [
    "# We can't know which logs are error logs or normal behaviour logs\n",
    "# See if there are more logs before the failures\n",
    "temp = logs_df.groupby(by=['UnitTitle', 'Date']).count().reset_index()\n",
    "for turbine in turbines:\n",
    "    plt.figure(figsize=(20,5)) \n",
    "    temp_ = temp[temp['UnitTitle']==turbine]\n",
    "    failures_df_ = failures_df[failures_df['Turbine_ID']==turbine]\n",
    "    plt.plot(temp_['Date'], temp_['Remark'])\n",
    "    plt.vlines(x=failures_df_['Timestamp'], color='red', linestyle= '--', ymin=0, ymax=max(temp_['Remark']))\n",
    "    plt.title(turbine)\n",
    "    plt.xlabel(\"Date\")\n",
    "    plt.ylabel(\"Number Logs\")\n",
    "    plt.show()"
   ]
  },
  {
   "cell_type": "markdown",
   "id": "willing-morgan",
   "metadata": {},
   "source": [
    "### We can't really see a clear correlation between the increasing number of logs before failure. It should be interesting to know what logs are error logs, but we don't have an expert nearby"
   ]
  },
  {
   "cell_type": "code",
   "execution_count": null,
   "id": "developmental-knock",
   "metadata": {},
   "outputs": [],
   "source": []
  }
 ],
 "metadata": {
  "kernelspec": {
   "display_name": "Python 3",
   "language": "python",
   "name": "python3"
  },
  "language_info": {
   "codemirror_mode": {
    "name": "ipython",
    "version": 3
   },
   "file_extension": ".py",
   "mimetype": "text/x-python",
   "name": "python",
   "nbconvert_exporter": "python",
   "pygments_lexer": "ipython3",
   "version": "3.7.2"
  }
 },
 "nbformat": 4,
 "nbformat_minor": 5
}
